{
 "cells": [
  {
   "cell_type": "markdown",
   "id": "34cd41c4",
   "metadata": {},
   "source": [
    "# Pytorch Dataset\n",
    "\n",
    "    - 대용량의 데이터를 어떤 구조로 모델에 잘 먹여줄(feeding)것인가 "
   ]
  },
  {
   "cell_type": "markdown",
   "id": "8f1b920d",
   "metadata": {},
   "source": [
    "class Dataset    \n",
    ":  데이터의 입력형태를 정의하는 클래스 "
   ]
  },
  {
   "cell_type": "code",
   "execution_count": 1,
   "id": "0a241bb1",
   "metadata": {},
   "outputs": [],
   "source": [
    "import torch\n",
    "from torch.utils.data import Dataset\n",
    "\n",
    "class CustomDataset(Dataset):\n",
    "    def __init__(self, text, labels):\n",
    "        self.labels = labels\n",
    "        self.data = text\n",
    "    \n",
    "    # 데이터의 전체 길이 return \n",
    "    def __len__(self):\n",
    "        return len(self.labels)\n",
    "    \n",
    "    # index를 주었을때 (x,y)형태로 데이터 반환 \n",
    "    def __getitem__(self, idx):\n",
    "        label = self.labels[idx]\n",
    "        text = self.data[idx]\n",
    "        sample = {\"Text\": text, \"Class\" : label}\n",
    "        return sample"
   ]
  },
  {
   "cell_type": "code",
   "execution_count": 4,
   "id": "9e7f3004",
   "metadata": {},
   "outputs": [],
   "source": [
    "text = ['Happy', 'Amazing', 'Sad', \"Unhappy\", \"Glum\"]\n",
    "labels = ['Positive', 'Positive', 'Negative', 'Negative', 'Negative']\n",
    "MyDataset = CustomDataset(text,labels)"
   ]
  },
  {
   "cell_type": "code",
   "execution_count": 10,
   "id": "558551ec",
   "metadata": {},
   "outputs": [
    {
     "data": {
      "text/plain": [
       "(['Happy', 'Amazing', 'Sad', 'Unhappy', 'Glum'],\n",
       " ['Positive', 'Positive', 'Negative', 'Negative', 'Negative'])"
      ]
     },
     "execution_count": 10,
     "metadata": {},
     "output_type": "execute_result"
    }
   ],
   "source": [
    "text, labels"
   ]
  },
  {
   "cell_type": "markdown",
   "id": "e1f3e3ca",
   "metadata": {},
   "source": [
    "class DataLoader   \n",
    ": Data의 Batch를 생성해주는 class "
   ]
  },
  {
   "cell_type": "code",
   "execution_count": 19,
   "id": "6438781a",
   "metadata": {},
   "outputs": [],
   "source": [
    "# DataLoader(dataset, batch_size=, shuffle=bool, sampler=None\n",
    "#            , ... num_workers, collate_fn=None )\n",
    "\n",
    "# collate fn \n",
    "# : [[data, label],[data,label]] -> [data][label]\n",
    "#                                   [data][label]"
   ]
  },
  {
   "cell_type": "code",
   "execution_count": 25,
   "id": "c65c3e1b",
   "metadata": {},
   "outputs": [
    {
     "name": "stdout",
     "output_type": "stream",
     "text": [
      "{'Text': ['Sad', 'Happy'], 'Class': ['Negative', 'Positive']}\n",
      "{'Text': ['Amazing', 'Glum'], 'Class': ['Positive', 'Negative']}\n",
      "{'Text': ['Unhappy'], 'Class': ['Negative']}\n"
     ]
    }
   ],
   "source": [
    "from torch.utils.data import DataLoader\n",
    "\n",
    "MyDataLoader = DataLoader(MyDataset, batch_size=2,shuffle=True)\n",
    "\n",
    "for dataset in MyDataLoader:\n",
    "    print(dataset)"
   ]
  },
  {
   "cell_type": "code",
   "execution_count": 46,
   "id": "e3734385",
   "metadata": {},
   "outputs": [],
   "source": [
    "# collate fn \n",
    "\n",
    "class ExampleDataset(Dataset):\n",
    "    def __init__(self,num):\n",
    "        self.num = num\n",
    "    \n",
    "    def __len__(self):\n",
    "        return self.num\n",
    "    \n",
    "    def __getitem__(self,idx):\n",
    "        return {\"X\": torch.tensor([idx]*(idx+1), dtype=torch.float32),\n",
    "               \"y\":torch.tensor(idx,dtype=torch.float32)}\n",
    "    \n",
    "    \n",
    "    \n",
    "dataset_example = ExampleDataset(num=10)\n",
    "dataloader_example = torch.utils.data.DataLoader(dataset_example, batch_size=1)"
   ]
  },
  {
   "cell_type": "code",
   "execution_count": 47,
   "id": "7893c86a",
   "metadata": {
    "scrolled": true
   },
   "outputs": [
    {
     "data": {
      "text/plain": [
       "{'X': tensor([0.]), 'y': tensor(0.)}"
      ]
     },
     "execution_count": 47,
     "metadata": {},
     "output_type": "execute_result"
    }
   ],
   "source": [
    "next(iter(dataset_example))"
   ]
  },
  {
   "cell_type": "code",
   "execution_count": 48,
   "id": "a0f4bb29",
   "metadata": {
    "scrolled": true
   },
   "outputs": [
    {
     "name": "stdout",
     "output_type": "stream",
     "text": [
      "tensor([[0.]])\n",
      "tensor([[1., 1.]])\n",
      "tensor([[2., 2., 2.]])\n",
      "tensor([[3., 3., 3., 3.]])\n",
      "tensor([[4., 4., 4., 4., 4.]])\n",
      "tensor([[5., 5., 5., 5., 5., 5.]])\n",
      "tensor([[6., 6., 6., 6., 6., 6., 6.]])\n",
      "tensor([[7., 7., 7., 7., 7., 7., 7., 7.]])\n",
      "tensor([[8., 8., 8., 8., 8., 8., 8., 8., 8.]])\n",
      "tensor([[9., 9., 9., 9., 9., 9., 9., 9., 9., 9.]])\n"
     ]
    }
   ],
   "source": [
    "for i in dataloader_example:\n",
    "    print(i[\"X\"])"
   ]
  },
  {
   "cell_type": "code",
   "execution_count": null,
   "id": "2a9f0145",
   "metadata": {},
   "outputs": [],
   "source": []
  },
  {
   "cell_type": "code",
   "execution_count": null,
   "id": "ed87daee",
   "metadata": {},
   "outputs": [],
   "source": []
  },
  {
   "cell_type": "code",
   "execution_count": null,
   "id": "93462616",
   "metadata": {},
   "outputs": [],
   "source": []
  },
  {
   "cell_type": "code",
   "execution_count": null,
   "id": "c487f9d9",
   "metadata": {},
   "outputs": [],
   "source": []
  },
  {
   "cell_type": "code",
   "execution_count": null,
   "id": "b6e0b4a2",
   "metadata": {},
   "outputs": [],
   "source": []
  },
  {
   "cell_type": "code",
   "execution_count": null,
   "id": "c0238820",
   "metadata": {},
   "outputs": [],
   "source": []
  },
  {
   "cell_type": "code",
   "execution_count": null,
   "id": "25976dd1",
   "metadata": {},
   "outputs": [],
   "source": []
  },
  {
   "cell_type": "code",
   "execution_count": null,
   "id": "1ec75737",
   "metadata": {},
   "outputs": [],
   "source": []
  },
  {
   "cell_type": "code",
   "execution_count": null,
   "id": "1c6156f2",
   "metadata": {},
   "outputs": [],
   "source": []
  },
  {
   "cell_type": "code",
   "execution_count": null,
   "id": "9129d8b3",
   "metadata": {},
   "outputs": [],
   "source": []
  },
  {
   "cell_type": "code",
   "execution_count": null,
   "id": "b6e6bf60",
   "metadata": {},
   "outputs": [],
   "source": []
  },
  {
   "cell_type": "code",
   "execution_count": null,
   "id": "4b851645",
   "metadata": {},
   "outputs": [],
   "source": []
  },
  {
   "cell_type": "code",
   "execution_count": null,
   "id": "650c2994",
   "metadata": {},
   "outputs": [],
   "source": []
  },
  {
   "cell_type": "code",
   "execution_count": null,
   "id": "08d5dbd0",
   "metadata": {},
   "outputs": [],
   "source": []
  },
  {
   "cell_type": "code",
   "execution_count": null,
   "id": "0657b8e6",
   "metadata": {},
   "outputs": [],
   "source": []
  },
  {
   "cell_type": "code",
   "execution_count": null,
   "id": "3586400c",
   "metadata": {},
   "outputs": [],
   "source": []
  },
  {
   "cell_type": "code",
   "execution_count": null,
   "id": "0ff5e231",
   "metadata": {},
   "outputs": [],
   "source": []
  },
  {
   "cell_type": "code",
   "execution_count": null,
   "id": "693a044a",
   "metadata": {},
   "outputs": [],
   "source": []
  },
  {
   "cell_type": "code",
   "execution_count": null,
   "id": "df8535e6",
   "metadata": {},
   "outputs": [],
   "source": []
  },
  {
   "cell_type": "code",
   "execution_count": null,
   "id": "8bad48c2",
   "metadata": {},
   "outputs": [],
   "source": []
  },
  {
   "cell_type": "code",
   "execution_count": null,
   "id": "3465849b",
   "metadata": {},
   "outputs": [],
   "source": []
  },
  {
   "cell_type": "code",
   "execution_count": null,
   "id": "c4ce7425",
   "metadata": {},
   "outputs": [],
   "source": []
  },
  {
   "cell_type": "code",
   "execution_count": null,
   "id": "ff543994",
   "metadata": {},
   "outputs": [],
   "source": []
  },
  {
   "cell_type": "code",
   "execution_count": null,
   "id": "2399be0f",
   "metadata": {},
   "outputs": [],
   "source": []
  },
  {
   "cell_type": "code",
   "execution_count": null,
   "id": "be0a1a84",
   "metadata": {},
   "outputs": [],
   "source": []
  },
  {
   "cell_type": "code",
   "execution_count": null,
   "id": "2718168b",
   "metadata": {},
   "outputs": [],
   "source": []
  }
 ],
 "metadata": {
  "kernelspec": {
   "display_name": "Python 3 (ipykernel)",
   "language": "python",
   "name": "python3"
  },
  "language_info": {
   "codemirror_mode": {
    "name": "ipython",
    "version": 3
   },
   "file_extension": ".py",
   "mimetype": "text/x-python",
   "name": "python",
   "nbconvert_exporter": "python",
   "pygments_lexer": "ipython3",
   "version": "3.7.15"
  }
 },
 "nbformat": 4,
 "nbformat_minor": 5
}
