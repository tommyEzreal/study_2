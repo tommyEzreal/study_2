{
  "nbformat": 4,
  "nbformat_minor": 0,
  "metadata": {
    "colab": {
      "provenance": [],
      "authorship_tag": "ABX9TyMDp/XGkmTOEjR859jlxvZD",
      "include_colab_link": true
    },
    "kernelspec": {
      "name": "python3",
      "display_name": "Python 3"
    },
    "language_info": {
      "name": "python"
    },
    "accelerator": "GPU",
    "gpuClass": "standard",
    "widgets": {
      "application/vnd.jupyter.widget-state+json": {
        "0dc0971b2fee4803a7d7af02ee1ac15c": {
          "model_module": "@jupyter-widgets/controls",
          "model_name": "HBoxModel",
          "model_module_version": "1.5.0",
          "state": {
            "_dom_classes": [],
            "_model_module": "@jupyter-widgets/controls",
            "_model_module_version": "1.5.0",
            "_model_name": "HBoxModel",
            "_view_count": null,
            "_view_module": "@jupyter-widgets/controls",
            "_view_module_version": "1.5.0",
            "_view_name": "HBoxView",
            "box_style": "",
            "children": [
              "IPY_MODEL_8de0928eec3442cb8afa2e84e8a33820",
              "IPY_MODEL_7385d1ae6a774a919e5dba2eaabff183",
              "IPY_MODEL_1dc799f64c2e4c6882afca21b2f52aaa"
            ],
            "layout": "IPY_MODEL_95fb41030f784576b3a0339988aa3f95"
          }
        },
        "8de0928eec3442cb8afa2e84e8a33820": {
          "model_module": "@jupyter-widgets/controls",
          "model_name": "HTMLModel",
          "model_module_version": "1.5.0",
          "state": {
            "_dom_classes": [],
            "_model_module": "@jupyter-widgets/controls",
            "_model_module_version": "1.5.0",
            "_model_name": "HTMLModel",
            "_view_count": null,
            "_view_module": "@jupyter-widgets/controls",
            "_view_module_version": "1.5.0",
            "_view_name": "HTMLView",
            "description": "",
            "description_tooltip": null,
            "layout": "IPY_MODEL_3ea639f9f81043bab7e37190ecf53952",
            "placeholder": "​",
            "style": "IPY_MODEL_e8fd4b8e22694dd0a953de1d26a3dcf4",
            "value": "100%"
          }
        },
        "7385d1ae6a774a919e5dba2eaabff183": {
          "model_module": "@jupyter-widgets/controls",
          "model_name": "FloatProgressModel",
          "model_module_version": "1.5.0",
          "state": {
            "_dom_classes": [],
            "_model_module": "@jupyter-widgets/controls",
            "_model_module_version": "1.5.0",
            "_model_name": "FloatProgressModel",
            "_view_count": null,
            "_view_module": "@jupyter-widgets/controls",
            "_view_module_version": "1.5.0",
            "_view_name": "ProgressView",
            "bar_style": "success",
            "description": "",
            "description_tooltip": null,
            "layout": "IPY_MODEL_224ece223f394d108e03e4e60c2e21fe",
            "max": 15,
            "min": 0,
            "orientation": "horizontal",
            "style": "IPY_MODEL_0b57ad34e6c84541b26114e179d1c58f",
            "value": 15
          }
        },
        "1dc799f64c2e4c6882afca21b2f52aaa": {
          "model_module": "@jupyter-widgets/controls",
          "model_name": "HTMLModel",
          "model_module_version": "1.5.0",
          "state": {
            "_dom_classes": [],
            "_model_module": "@jupyter-widgets/controls",
            "_model_module_version": "1.5.0",
            "_model_name": "HTMLModel",
            "_view_count": null,
            "_view_module": "@jupyter-widgets/controls",
            "_view_module_version": "1.5.0",
            "_view_name": "HTMLView",
            "description": "",
            "description_tooltip": null,
            "layout": "IPY_MODEL_50c86ee8a5cb43bd9cab1e65bf6b27c3",
            "placeholder": "​",
            "style": "IPY_MODEL_158ab2af1c464deda48dd17c26a9fe17",
            "value": " 15/15 [01:21&lt;00:00,  5.43s/it]"
          }
        },
        "95fb41030f784576b3a0339988aa3f95": {
          "model_module": "@jupyter-widgets/base",
          "model_name": "LayoutModel",
          "model_module_version": "1.2.0",
          "state": {
            "_model_module": "@jupyter-widgets/base",
            "_model_module_version": "1.2.0",
            "_model_name": "LayoutModel",
            "_view_count": null,
            "_view_module": "@jupyter-widgets/base",
            "_view_module_version": "1.2.0",
            "_view_name": "LayoutView",
            "align_content": null,
            "align_items": null,
            "align_self": null,
            "border": null,
            "bottom": null,
            "display": null,
            "flex": null,
            "flex_flow": null,
            "grid_area": null,
            "grid_auto_columns": null,
            "grid_auto_flow": null,
            "grid_auto_rows": null,
            "grid_column": null,
            "grid_gap": null,
            "grid_row": null,
            "grid_template_areas": null,
            "grid_template_columns": null,
            "grid_template_rows": null,
            "height": null,
            "justify_content": null,
            "justify_items": null,
            "left": null,
            "margin": null,
            "max_height": null,
            "max_width": null,
            "min_height": null,
            "min_width": null,
            "object_fit": null,
            "object_position": null,
            "order": null,
            "overflow": null,
            "overflow_x": null,
            "overflow_y": null,
            "padding": null,
            "right": null,
            "top": null,
            "visibility": null,
            "width": null
          }
        },
        "3ea639f9f81043bab7e37190ecf53952": {
          "model_module": "@jupyter-widgets/base",
          "model_name": "LayoutModel",
          "model_module_version": "1.2.0",
          "state": {
            "_model_module": "@jupyter-widgets/base",
            "_model_module_version": "1.2.0",
            "_model_name": "LayoutModel",
            "_view_count": null,
            "_view_module": "@jupyter-widgets/base",
            "_view_module_version": "1.2.0",
            "_view_name": "LayoutView",
            "align_content": null,
            "align_items": null,
            "align_self": null,
            "border": null,
            "bottom": null,
            "display": null,
            "flex": null,
            "flex_flow": null,
            "grid_area": null,
            "grid_auto_columns": null,
            "grid_auto_flow": null,
            "grid_auto_rows": null,
            "grid_column": null,
            "grid_gap": null,
            "grid_row": null,
            "grid_template_areas": null,
            "grid_template_columns": null,
            "grid_template_rows": null,
            "height": null,
            "justify_content": null,
            "justify_items": null,
            "left": null,
            "margin": null,
            "max_height": null,
            "max_width": null,
            "min_height": null,
            "min_width": null,
            "object_fit": null,
            "object_position": null,
            "order": null,
            "overflow": null,
            "overflow_x": null,
            "overflow_y": null,
            "padding": null,
            "right": null,
            "top": null,
            "visibility": null,
            "width": null
          }
        },
        "e8fd4b8e22694dd0a953de1d26a3dcf4": {
          "model_module": "@jupyter-widgets/controls",
          "model_name": "DescriptionStyleModel",
          "model_module_version": "1.5.0",
          "state": {
            "_model_module": "@jupyter-widgets/controls",
            "_model_module_version": "1.5.0",
            "_model_name": "DescriptionStyleModel",
            "_view_count": null,
            "_view_module": "@jupyter-widgets/base",
            "_view_module_version": "1.2.0",
            "_view_name": "StyleView",
            "description_width": ""
          }
        },
        "224ece223f394d108e03e4e60c2e21fe": {
          "model_module": "@jupyter-widgets/base",
          "model_name": "LayoutModel",
          "model_module_version": "1.2.0",
          "state": {
            "_model_module": "@jupyter-widgets/base",
            "_model_module_version": "1.2.0",
            "_model_name": "LayoutModel",
            "_view_count": null,
            "_view_module": "@jupyter-widgets/base",
            "_view_module_version": "1.2.0",
            "_view_name": "LayoutView",
            "align_content": null,
            "align_items": null,
            "align_self": null,
            "border": null,
            "bottom": null,
            "display": null,
            "flex": null,
            "flex_flow": null,
            "grid_area": null,
            "grid_auto_columns": null,
            "grid_auto_flow": null,
            "grid_auto_rows": null,
            "grid_column": null,
            "grid_gap": null,
            "grid_row": null,
            "grid_template_areas": null,
            "grid_template_columns": null,
            "grid_template_rows": null,
            "height": null,
            "justify_content": null,
            "justify_items": null,
            "left": null,
            "margin": null,
            "max_height": null,
            "max_width": null,
            "min_height": null,
            "min_width": null,
            "object_fit": null,
            "object_position": null,
            "order": null,
            "overflow": null,
            "overflow_x": null,
            "overflow_y": null,
            "padding": null,
            "right": null,
            "top": null,
            "visibility": null,
            "width": null
          }
        },
        "0b57ad34e6c84541b26114e179d1c58f": {
          "model_module": "@jupyter-widgets/controls",
          "model_name": "ProgressStyleModel",
          "model_module_version": "1.5.0",
          "state": {
            "_model_module": "@jupyter-widgets/controls",
            "_model_module_version": "1.5.0",
            "_model_name": "ProgressStyleModel",
            "_view_count": null,
            "_view_module": "@jupyter-widgets/base",
            "_view_module_version": "1.2.0",
            "_view_name": "StyleView",
            "bar_color": null,
            "description_width": ""
          }
        },
        "50c86ee8a5cb43bd9cab1e65bf6b27c3": {
          "model_module": "@jupyter-widgets/base",
          "model_name": "LayoutModel",
          "model_module_version": "1.2.0",
          "state": {
            "_model_module": "@jupyter-widgets/base",
            "_model_module_version": "1.2.0",
            "_model_name": "LayoutModel",
            "_view_count": null,
            "_view_module": "@jupyter-widgets/base",
            "_view_module_version": "1.2.0",
            "_view_name": "LayoutView",
            "align_content": null,
            "align_items": null,
            "align_self": null,
            "border": null,
            "bottom": null,
            "display": null,
            "flex": null,
            "flex_flow": null,
            "grid_area": null,
            "grid_auto_columns": null,
            "grid_auto_flow": null,
            "grid_auto_rows": null,
            "grid_column": null,
            "grid_gap": null,
            "grid_row": null,
            "grid_template_areas": null,
            "grid_template_columns": null,
            "grid_template_rows": null,
            "height": null,
            "justify_content": null,
            "justify_items": null,
            "left": null,
            "margin": null,
            "max_height": null,
            "max_width": null,
            "min_height": null,
            "min_width": null,
            "object_fit": null,
            "object_position": null,
            "order": null,
            "overflow": null,
            "overflow_x": null,
            "overflow_y": null,
            "padding": null,
            "right": null,
            "top": null,
            "visibility": null,
            "width": null
          }
        },
        "158ab2af1c464deda48dd17c26a9fe17": {
          "model_module": "@jupyter-widgets/controls",
          "model_name": "DescriptionStyleModel",
          "model_module_version": "1.5.0",
          "state": {
            "_model_module": "@jupyter-widgets/controls",
            "_model_module_version": "1.5.0",
            "_model_name": "DescriptionStyleModel",
            "_view_count": null,
            "_view_module": "@jupyter-widgets/base",
            "_view_module_version": "1.2.0",
            "_view_name": "StyleView",
            "description_width": ""
          }
        }
      }
    }
  },
  "cells": [
    {
      "cell_type": "markdown",
      "metadata": {
        "id": "view-in-github",
        "colab_type": "text"
      },
      "source": [
        "<a href=\"https://colab.research.google.com/github/tommyEzreal/study_low_level/blob/main/pytorch/%EB%AA%A8%EB%91%90%EB%A5%BC%EC%9C%84%ED%95%9C%EB%94%A5%EB%9F%AC%EB%8B%9D2/softmax_classification.ipynb\" target=\"_parent\"><img src=\"https://colab.research.google.com/assets/colab-badge.svg\" alt=\"Open In Colab\"/></a>"
      ]
    },
    {
      "cell_type": "code",
      "execution_count": 1,
      "metadata": {
        "id": "NTFKkYrB10jZ"
      },
      "outputs": [],
      "source": [
        "import torch\n",
        "import torch.nn as nn\n",
        "import torch.nn.functional as F\n",
        "import torch.optim as optim "
      ]
    },
    {
      "cell_type": "code",
      "source": [
        "torch.manual_seed(0)"
      ],
      "metadata": {
        "colab": {
          "base_uri": "https://localhost:8080/"
        },
        "id": "488-Lxan6JG9",
        "outputId": "1e51ffae-6421-4c46-a66d-b036ea2a617d"
      },
      "execution_count": 2,
      "outputs": [
        {
          "output_type": "execute_result",
          "data": {
            "text/plain": [
              "<torch._C.Generator at 0x7ff7843d61f0>"
            ]
          },
          "metadata": {},
          "execution_count": 2
        }
      ]
    },
    {
      "cell_type": "code",
      "source": [
        "# why use one-hot encoding? \n",
        "# equalize the loss of each feature "
      ],
      "metadata": {
        "id": "nRIuGLR92jXg"
      },
      "execution_count": 3,
      "outputs": []
    },
    {
      "cell_type": "markdown",
      "source": [
        "Multi-calss Classification"
      ],
      "metadata": {
        "id": "_6a43JSX3Bps"
      }
    },
    {
      "cell_type": "markdown",
      "source": [
        "![image.png](data:image/png;base64,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)"
      ],
      "metadata": {
        "id": "CkjqJZEW5OwJ"
      }
    },
    {
      "cell_type": "markdown",
      "source": [
        "softmax in low-level"
      ],
      "metadata": {
        "id": "7XjITDFG6YMs"
      }
    },
    {
      "cell_type": "code",
      "source": [
        "z = torch.FloatTensor([1,2,3])\n",
        "\n",
        "h = F.softmax(z, dim=0)\n",
        "h"
      ],
      "metadata": {
        "colab": {
          "base_uri": "https://localhost:8080/"
        },
        "id": "4jNq1tra2jVV",
        "outputId": "c5abe123-0c83-4848-c8e0-0b5c8bd83261"
      },
      "execution_count": 4,
      "outputs": [
        {
          "output_type": "execute_result",
          "data": {
            "text/plain": [
              "tensor([0.0900, 0.2447, 0.6652])"
            ]
          },
          "metadata": {},
          "execution_count": 4
        }
      ]
    },
    {
      "cell_type": "code",
      "source": [
        "h.sum() # cause it s softmax"
      ],
      "metadata": {
        "colab": {
          "base_uri": "https://localhost:8080/"
        },
        "id": "xdZf1HXN2jTE",
        "outputId": "909d48b6-a802-4cdb-d99c-2b911cd90c68"
      },
      "execution_count": 5,
      "outputs": [
        {
          "output_type": "execute_result",
          "data": {
            "text/plain": [
              "tensor(1.)"
            ]
          },
          "metadata": {},
          "execution_count": 5
        }
      ]
    },
    {
      "cell_type": "markdown",
      "source": [
        "cost function"
      ],
      "metadata": {
        "id": "MSc_pCPx7IJo"
      }
    },
    {
      "cell_type": "markdown",
      "source": [
        "![image.png](data:image/png;base64,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)"
      ],
      "metadata": {
        "id": "xyl6pNjN5Rnf"
      }
    },
    {
      "cell_type": "code",
      "source": [
        "# random z \n",
        "z = torch.rand((3,5), requires_grad=True)\n",
        "z"
      ],
      "metadata": {
        "colab": {
          "base_uri": "https://localhost:8080/"
        },
        "id": "F150HSgH2jQw",
        "outputId": "96211184-b178-47c5-f9bb-b82326c1948f"
      },
      "execution_count": 6,
      "outputs": [
        {
          "output_type": "execute_result",
          "data": {
            "text/plain": [
              "tensor([[0.4963, 0.7682, 0.0885, 0.1320, 0.3074],\n",
              "        [0.6341, 0.4901, 0.8964, 0.4556, 0.6323],\n",
              "        [0.3489, 0.4017, 0.0223, 0.1689, 0.2939]], requires_grad=True)"
            ]
          },
          "metadata": {},
          "execution_count": 6
        }
      ]
    },
    {
      "cell_type": "code",
      "source": [
        "h = F.softmax(z, dim=1)\n",
        "h"
      ],
      "metadata": {
        "colab": {
          "base_uri": "https://localhost:8080/"
        },
        "id": "IveiQ96l2jOI",
        "outputId": "6988bf0c-a0e1-44f2-a7d2-bf1a8958c929"
      },
      "execution_count": 7,
      "outputs": [
        {
          "output_type": "execute_result",
          "data": {
            "text/plain": [
              "tensor([[0.2222, 0.2917, 0.1478, 0.1544, 0.1840],\n",
              "        [0.2000, 0.1732, 0.2600, 0.1673, 0.1996],\n",
              "        [0.2194, 0.2313, 0.1583, 0.1833, 0.2077]], grad_fn=<SoftmaxBackward0>)"
            ]
          },
          "metadata": {},
          "execution_count": 7
        }
      ]
    },
    {
      "cell_type": "code",
      "source": [
        "# random label\n",
        "y = torch.randint(5, (3,)).long()\n",
        "y "
      ],
      "metadata": {
        "colab": {
          "base_uri": "https://localhost:8080/"
        },
        "id": "wxoMdLzZ2jL2",
        "outputId": "ef19ba3c-6f6c-43d4-a335-ec14b3233d5c"
      },
      "execution_count": 8,
      "outputs": [
        {
          "output_type": "execute_result",
          "data": {
            "text/plain": [
              "tensor([1, 1, 3])"
            ]
          },
          "metadata": {},
          "execution_count": 8
        }
      ]
    },
    {
      "cell_type": "code",
      "source": [
        "y.unsqueeze(1)"
      ],
      "metadata": {
        "colab": {
          "base_uri": "https://localhost:8080/"
        },
        "id": "xrZ618L38PaM",
        "outputId": "2af05ed6-5870-4bd4-c8cf-3115b07521ef"
      },
      "execution_count": 9,
      "outputs": [
        {
          "output_type": "execute_result",
          "data": {
            "text/plain": [
              "tensor([[1],\n",
              "        [1],\n",
              "        [3]])"
            ]
          },
          "metadata": {},
          "execution_count": 9
        }
      ]
    },
    {
      "cell_type": "code",
      "source": [
        "# one-hot encoding \n",
        "y_one_hot = torch.zeros_like(h)\n",
        "print(y_one_hot)\n",
        "print()\n",
        "y_one_hot.scatter_(1, y.unsqueeze(1), 1) # label 2,3,0\n",
        "print(y_one_hot)"
      ],
      "metadata": {
        "colab": {
          "base_uri": "https://localhost:8080/"
        },
        "id": "jqisOVxx7YcA",
        "outputId": "b5314252-3fbd-473c-86f7-5f741b8e2e00"
      },
      "execution_count": 10,
      "outputs": [
        {
          "output_type": "stream",
          "name": "stdout",
          "text": [
            "tensor([[0., 0., 0., 0., 0.],\n",
            "        [0., 0., 0., 0., 0.],\n",
            "        [0., 0., 0., 0., 0.]])\n",
            "\n",
            "tensor([[0., 1., 0., 0., 0.],\n",
            "        [0., 1., 0., 0., 0.],\n",
            "        [0., 0., 0., 1., 0.]])\n"
          ]
        }
      ]
    },
    {
      "cell_type": "code",
      "source": [
        "cost = (y_one_hot * -torch.log(h)).sum(dim=1).mean()\n",
        "print(cost)"
      ],
      "metadata": {
        "colab": {
          "base_uri": "https://localhost:8080/"
        },
        "id": "mv_T2SMq8PYA",
        "outputId": "66718975-941f-481a-b297-89f927c68149"
      },
      "execution_count": 11,
      "outputs": [
        {
          "output_type": "stream",
          "name": "stdout",
          "text": [
            "tensor(1.5608, grad_fn=<MeanBackward0>)\n"
          ]
        }
      ]
    },
    {
      "cell_type": "markdown",
      "source": [
        "with nn.fucntion"
      ],
      "metadata": {
        "id": "_rGj6FDj9Wnx"
      }
    },
    {
      "cell_type": "code",
      "source": [
        "print(torch.log(F.softmax(z, dim=1)))\n",
        "print()\n",
        "# or\n",
        "print(torch.log_softmax(z, dim=1))\n"
      ],
      "metadata": {
        "colab": {
          "base_uri": "https://localhost:8080/"
        },
        "id": "FP_TZher7YXw",
        "outputId": "04c05358-89a5-4049-95ae-89c58cd2c5bd"
      },
      "execution_count": 12,
      "outputs": [
        {
          "output_type": "stream",
          "name": "stdout",
          "text": [
            "tensor([[-1.5041, -1.2322, -1.9119, -1.8684, -1.6930],\n",
            "        [-1.6096, -1.7536, -1.3472, -1.7880, -1.6113],\n",
            "        [-1.5167, -1.4639, -1.8433, -1.6968, -1.5717]], grad_fn=<LogBackward0>)\n",
            "\n",
            "tensor([[-1.5041, -1.2322, -1.9119, -1.8684, -1.6930],\n",
            "        [-1.6096, -1.7536, -1.3472, -1.7880, -1.6113],\n",
            "        [-1.5167, -1.4639, -1.8433, -1.6968, -1.5717]],\n",
            "       grad_fn=<LogSoftmaxBackward0>)\n"
          ]
        }
      ]
    },
    {
      "cell_type": "code",
      "source": [
        "# cost \n",
        "\n",
        "(y_one_hot * -F.log_softmax(z, dim=1)).sum(dim=1).mean()\n",
        "\n",
        "# or use nll_loss  \n",
        "\n",
        "F.nll_loss(F.log_softmax(z,dim=1),y)\n",
        "\n",
        "# or use cross-entropy \n",
        "\n",
        "F.cross_entropy(z,y)"
      ],
      "metadata": {
        "colab": {
          "base_uri": "https://localhost:8080/"
        },
        "id": "0WGH6Yy77YVe",
        "outputId": "bc5a24e3-6146-45b5-cc0a-a023dbf98eeb"
      },
      "execution_count": 13,
      "outputs": [
        {
          "output_type": "execute_result",
          "data": {
            "text/plain": [
              "tensor(1.5608, grad_fn=<NllLossBackward0>)"
            ]
          },
          "metadata": {},
          "execution_count": 13
        }
      ]
    },
    {
      "cell_type": "markdown",
      "source": [
        "softmax classification "
      ],
      "metadata": {
        "id": "kF9YlY8y-dih"
      }
    },
    {
      "cell_type": "code",
      "source": [
        "# k=3 \n",
        "\n",
        "x_train = [[1, 2, 1, 1],\n",
        "           [2, 1, 3, 2],\n",
        "           [3, 1, 3, 4],\n",
        "           [4, 1, 5, 5],\n",
        "           [1, 7, 5, 5],\n",
        "           [1, 2, 5, 6],\n",
        "           [1, 6, 6, 6],\n",
        "           [1, 7, 7, 7]]\n",
        "y_train = [2, 2, 2, 1, 1, 1, 0, 0]\n",
        "x_train = torch.FloatTensor(x_train)\n",
        "y_train = torch.LongTensor(y_train)"
      ],
      "metadata": {
        "id": "YGc8cZIW7YTa"
      },
      "execution_count": 14,
      "outputs": []
    },
    {
      "cell_type": "code",
      "source": [
        "x_train.shape, y_train.shape"
      ],
      "metadata": {
        "colab": {
          "base_uri": "https://localhost:8080/"
        },
        "id": "pA_w2FUS-iAs",
        "outputId": "206a3a03-2972-4ac3-dfad-e5a238381288"
      },
      "execution_count": 15,
      "outputs": [
        {
          "output_type": "execute_result",
          "data": {
            "text/plain": [
              "(torch.Size([8, 4]), torch.Size([8]))"
            ]
          },
          "metadata": {},
          "execution_count": 15
        }
      ]
    },
    {
      "cell_type": "code",
      "source": [
        "y_one_hot = torch.zeros(8,3) # class 3 \n",
        "\n",
        "print(\"y one-hot:\")\n",
        "print(y_one_hot.scatter_(1, y_train.unsqueeze(1),1))\n",
        "print()\n",
        "print(y_one_hot.shape)"
      ],
      "metadata": {
        "colab": {
          "base_uri": "https://localhost:8080/"
        },
        "id": "IBfvEd43-h-L",
        "outputId": "85e56d21-e3cd-473d-a4ee-772e0cb381c7"
      },
      "execution_count": 16,
      "outputs": [
        {
          "output_type": "stream",
          "name": "stdout",
          "text": [
            "y one-hot:\n",
            "tensor([[0., 0., 1.],\n",
            "        [0., 0., 1.],\n",
            "        [0., 0., 1.],\n",
            "        [0., 1., 0.],\n",
            "        [0., 1., 0.],\n",
            "        [0., 1., 0.],\n",
            "        [1., 0., 0.],\n",
            "        [1., 0., 0.]])\n",
            "\n",
            "torch.Size([8, 3])\n"
          ]
        }
      ]
    },
    {
      "cell_type": "code",
      "source": [
        "# weight and bais \n",
        "\n",
        "# W must be (4,3)  \n",
        "\n",
        "# x_train(8,4).matmul(W)(4,3) + b(8,) = y_one_hot(8,3)\n",
        "\n",
        "W = torch.zeros((4,3), requires_grad=True)\n",
        "b = torch.zeros(1, requires_grad=True)\n",
        "\n",
        "# optimizer\n",
        "optimizer = torch.optim.SGD([W,b], lr=0.1)"
      ],
      "metadata": {
        "id": "Vz1ma_M--h8F"
      },
      "execution_count": 17,
      "outputs": []
    },
    {
      "cell_type": "code",
      "source": [
        "h = F.softmax(x_train.matmul(W)+b, dim=1)\n",
        "-torch.log(h) * y_one_hot # element wise "
      ],
      "metadata": {
        "colab": {
          "base_uri": "https://localhost:8080/"
        },
        "id": "CL_ZOeRMB1ov",
        "outputId": "043e5471-1d1f-42fc-a067-aeedb9bfd15f"
      },
      "execution_count": 18,
      "outputs": [
        {
          "output_type": "execute_result",
          "data": {
            "text/plain": [
              "tensor([[0.0000, 0.0000, 1.0986],\n",
              "        [0.0000, 0.0000, 1.0986],\n",
              "        [0.0000, 0.0000, 1.0986],\n",
              "        [0.0000, 1.0986, 0.0000],\n",
              "        [0.0000, 1.0986, 0.0000],\n",
              "        [0.0000, 1.0986, 0.0000],\n",
              "        [1.0986, 0.0000, 0.0000],\n",
              "        [1.0986, 0.0000, 0.0000]], grad_fn=<MulBackward0>)"
            ]
          },
          "metadata": {},
          "execution_count": 18
        }
      ]
    },
    {
      "cell_type": "code",
      "source": [
        "# training loop\n",
        "\n",
        "epochs = 1000\n",
        "for epoch in range(epochs+1):\n",
        "  \n",
        "  h = F.softmax(x_train.matmul(W)+b, dim=1)\n",
        "  cost = (y_one_hot * -torch.log(h)).sum(dim=1).mean()\n",
        "\n",
        "\n",
        "  optimizer.zero_grad()\n",
        "  cost.backward()\n",
        "  optimizer.step()\n",
        "\n",
        "    # 100번마다 로그 출력\n",
        "  if epoch % 100 == 0:\n",
        "      print('Epoch {:4d}/{} Cost: {:.6f}'.format(\n",
        "            epoch, epochs, cost.item()\n",
        "        ))  \n"
      ],
      "metadata": {
        "colab": {
          "base_uri": "https://localhost:8080/"
        },
        "id": "isJBi7I2Azpp",
        "outputId": "f9ccf5f8-db08-4b55-f322-3d1584876cf0"
      },
      "execution_count": 19,
      "outputs": [
        {
          "output_type": "stream",
          "name": "stdout",
          "text": [
            "Epoch    0/1000 Cost: 1.098612\n",
            "Epoch  100/1000 Cost: 0.761050\n",
            "Epoch  200/1000 Cost: 0.689991\n",
            "Epoch  300/1000 Cost: 0.643229\n",
            "Epoch  400/1000 Cost: 0.604117\n",
            "Epoch  500/1000 Cost: 0.568255\n",
            "Epoch  600/1000 Cost: 0.533922\n",
            "Epoch  700/1000 Cost: 0.500291\n",
            "Epoch  800/1000 Cost: 0.466908\n",
            "Epoch  900/1000 Cost: 0.433507\n",
            "Epoch 1000/1000 Cost: 0.399962\n"
          ]
        }
      ]
    },
    {
      "cell_type": "code",
      "source": [
        "# training loop (high-level)\n",
        "\n",
        "epochs = 1000\n",
        "for epoch in range(epochs+1):\n",
        "  \n",
        "  z = x_train.matmul(W) + b\n",
        "  cost = F.cross_entropy(z,y_train)\n",
        "\n",
        "\n",
        "  optimizer.zero_grad()\n",
        "  cost.backward()\n",
        "  optimizer.step()\n",
        "\n",
        "    # 100번마다 로그 출력\n",
        "  if epoch % 100 == 0:\n",
        "      print('Epoch {:4d}/{} Cost: {:.6f}'.format(\n",
        "            epoch, epochs, cost.item()\n",
        "        ))  \n"
      ],
      "metadata": {
        "colab": {
          "base_uri": "https://localhost:8080/"
        },
        "id": "g3op66wvAznk",
        "outputId": "7bba65da-ddb8-4a95-cb08-f1d2522ba6aa"
      },
      "execution_count": 20,
      "outputs": [
        {
          "output_type": "stream",
          "name": "stdout",
          "text": [
            "Epoch    0/1000 Cost: 0.385263\n",
            "Epoch  100/1000 Cost: 0.358230\n",
            "Epoch  200/1000 Cost: 0.330755\n",
            "Epoch  300/1000 Cost: 0.306726\n",
            "Epoch  400/1000 Cost: 0.294556\n",
            "Epoch  500/1000 Cost: 0.285188\n",
            "Epoch  600/1000 Cost: 0.276404\n",
            "Epoch  700/1000 Cost: 0.268142\n",
            "Epoch  800/1000 Cost: 0.260353\n",
            "Epoch  900/1000 Cost: 0.252995\n",
            "Epoch 1000/1000 Cost: 0.246030\n"
          ]
        }
      ]
    },
    {
      "cell_type": "code",
      "source": [
        "# with nn.Module \n",
        "\n",
        "model = nn.Linear(4,3)\n",
        "\n",
        "\n",
        "optimizer = optim.SGD(model.parameters(), lr=0.1)\n",
        "\n",
        "epochs = 1000\n",
        "for epoch in range(epochs+1):\n",
        "  pred = model(x_train)\n",
        "  cost = F.cross_entropy(pred, y_train)\n",
        "\n",
        "  optimizer.zero_grad()\n",
        "  cost.backward()\n",
        "  optimizer.step()\n",
        "\n",
        "  # 100번마다 로그 출력\n",
        "  if epoch % 100 == 0:\n",
        "    print('Epoch {:4d}/{} Cost: {:.6f}'.format(\n",
        "            epoch, epochs, cost.item()\n",
        "        ))  \n"
      ],
      "metadata": {
        "colab": {
          "base_uri": "https://localhost:8080/"
        },
        "id": "MMwA9mi-JB9v",
        "outputId": "83be0105-4148-4b35-a2bf-9c531d4cc199"
      },
      "execution_count": 21,
      "outputs": [
        {
          "output_type": "stream",
          "name": "stdout",
          "text": [
            "Epoch    0/1000 Cost: 1.555345\n",
            "Epoch  100/1000 Cost: 0.641865\n",
            "Epoch  200/1000 Cost: 0.560256\n",
            "Epoch  300/1000 Cost: 0.506056\n",
            "Epoch  400/1000 Cost: 0.461593\n",
            "Epoch  500/1000 Cost: 0.421902\n",
            "Epoch  600/1000 Cost: 0.384677\n",
            "Epoch  700/1000 Cost: 0.348420\n",
            "Epoch  800/1000 Cost: 0.312016\n",
            "Epoch  900/1000 Cost: 0.275260\n",
            "Epoch 1000/1000 Cost: 0.246030\n"
          ]
        }
      ]
    },
    {
      "cell_type": "markdown",
      "source": [
        "Mnist classification "
      ],
      "metadata": {
        "id": "sc4zO5cFqJ4u"
      }
    },
    {
      "cell_type": "code",
      "source": [
        "import torch\n",
        "import torchvision.datasets as dsets\n",
        "import torchvision.transforms as transforms\n",
        "from torch.utils.data import DataLoader\n",
        "import torch.nn as nn\n",
        "import matplotlib.pyplot as plt\n",
        "import random"
      ],
      "metadata": {
        "id": "DvL8ntGeAzku"
      },
      "execution_count": 9,
      "outputs": []
    },
    {
      "cell_type": "code",
      "source": [
        "USE_CUDA = torch.cuda.is_available()\n",
        "device = torch.device('cuda' if USE_CUDA else 'cpu')\n",
        "print(device)"
      ],
      "metadata": {
        "colab": {
          "base_uri": "https://localhost:8080/"
        },
        "id": "uw7rMTit7YQo",
        "outputId": "78d74e70-3ef6-4b4c-dc43-acb56ff24417"
      },
      "execution_count": 2,
      "outputs": [
        {
          "output_type": "stream",
          "name": "stdout",
          "text": [
            "cuda\n"
          ]
        }
      ]
    },
    {
      "cell_type": "code",
      "source": [
        "random.seed(0)\n",
        "torch.manual_seed(0)\n",
        "if device=='cuda':\n",
        "  torch.cuda.manual_seed_all(0)"
      ],
      "metadata": {
        "id": "RcmcGwGvqJge"
      },
      "execution_count": 3,
      "outputs": []
    },
    {
      "cell_type": "code",
      "source": [
        "epochs = 15\n",
        "batch_size = 64"
      ],
      "metadata": {
        "id": "iwT5kCMWqJeV"
      },
      "execution_count": 68,
      "outputs": []
    },
    {
      "cell_type": "code",
      "source": [
        "# dataset \n",
        "\n",
        "mnist_train = dsets.MNIST(root='MNIST_data/',\n",
        "                          train = True,\n",
        "                          transform = transforms.ToTensor(),\n",
        "                          download=True)\n",
        "mnist_test = dsets.MNIST(root='MNIST_data/',\n",
        "                         train = False,\n",
        "                         transform = transforms.ToTensor(),\n",
        "                         download=True)"
      ],
      "metadata": {
        "id": "tU7vwF42qJbr"
      },
      "execution_count": 69,
      "outputs": []
    },
    {
      "cell_type": "code",
      "source": [
        "# dataloader\n",
        "data_loader = DataLoader(dataset = mnist_train,\n",
        "                         batch_size = batch_size,\n",
        "                         shuffle= True,\n",
        "                         drop_last = True) # 마지막 배치 버릴지 여부 "
      ],
      "metadata": {
        "id": "Gst6I-vtqJXH"
      },
      "execution_count": 70,
      "outputs": []
    },
    {
      "cell_type": "code",
      "source": [
        "# model \n",
        "# 28*28 imagesize = 784 \n",
        "linear = nn.Linear(784,10, bias = True).to(device) # input 784, output 10 "
      ],
      "metadata": {
        "id": "KfcKTPGBqJU2"
      },
      "execution_count": 71,
      "outputs": []
    },
    {
      "cell_type": "code",
      "source": [
        "# cost func\n",
        "criterion = nn.CrossEntropyLoss().to(device)\n",
        "# = torch.nn.functional.cross_entropy()\n",
        "\n",
        "# optim\n",
        "optimizer = torch.optim.SGD(linear.parameters(), lr=0.1)\n"
      ],
      "metadata": {
        "id": "a8mzYYqfqJSa"
      },
      "execution_count": 72,
      "outputs": []
    },
    {
      "cell_type": "code",
      "source": [
        "from tqdm.auto import tqdm\n",
        "\n",
        "for epoch in tqdm(range(epochs)):\n",
        "  avg_cost = 0\n",
        "  total_batch = len(data_loader)\n",
        "\n",
        "  for X,Y in data_loader:\n",
        "    X = X.view(-1,28*28).to(device) # 28*28 to 784 vec * batchsize\n",
        "    Y = Y.to(device)\n",
        "\n",
        "    h = linear(X)\n",
        "    cost = criterion(h, Y)\n",
        "\n",
        "    optimizer.zero_grad()\n",
        "    cost.backward()\n",
        "    optimizer.step()\n",
        "\n",
        "    avg_cost += cost/total_batch\n",
        "\n",
        "  print('Epoch:', '%04d' % (epoch + 1), 'cost =', '{:.9f}'.format(avg_cost))\n",
        "\n"
      ],
      "metadata": {
        "colab": {
          "base_uri": "https://localhost:8080/",
          "height": 318,
          "referenced_widgets": [
            "0dc0971b2fee4803a7d7af02ee1ac15c",
            "8de0928eec3442cb8afa2e84e8a33820",
            "7385d1ae6a774a919e5dba2eaabff183",
            "1dc799f64c2e4c6882afca21b2f52aaa",
            "95fb41030f784576b3a0339988aa3f95",
            "3ea639f9f81043bab7e37190ecf53952",
            "e8fd4b8e22694dd0a953de1d26a3dcf4",
            "224ece223f394d108e03e4e60c2e21fe",
            "0b57ad34e6c84541b26114e179d1c58f",
            "50c86ee8a5cb43bd9cab1e65bf6b27c3",
            "158ab2af1c464deda48dd17c26a9fe17"
          ]
        },
        "id": "fFUDhVjDqJP6",
        "outputId": "de87eb05-4889-48da-9408-ce46235917fa"
      },
      "execution_count": 73,
      "outputs": [
        {
          "output_type": "display_data",
          "data": {
            "text/plain": [
              "  0%|          | 0/15 [00:00<?, ?it/s]"
            ],
            "application/vnd.jupyter.widget-view+json": {
              "version_major": 2,
              "version_minor": 0,
              "model_id": "0dc0971b2fee4803a7d7af02ee1ac15c"
            }
          },
          "metadata": {}
        },
        {
          "output_type": "stream",
          "name": "stdout",
          "text": [
            "Epoch: 0001 cost = 0.477775872\n",
            "Epoch: 0002 cost = 0.336652726\n",
            "Epoch: 0003 cost = 0.314266652\n",
            "Epoch: 0004 cost = 0.302090526\n",
            "Epoch: 0005 cost = 0.294269830\n",
            "Epoch: 0006 cost = 0.288801938\n",
            "Epoch: 0007 cost = 0.284545451\n",
            "Epoch: 0008 cost = 0.280869693\n",
            "Epoch: 0009 cost = 0.278028995\n",
            "Epoch: 0010 cost = 0.275908172\n",
            "Epoch: 0011 cost = 0.273272783\n",
            "Epoch: 0012 cost = 0.271943957\n",
            "Epoch: 0013 cost = 0.270105362\n",
            "Epoch: 0014 cost = 0.268494785\n",
            "Epoch: 0015 cost = 0.267162144\n"
          ]
        }
      ]
    },
    {
      "cell_type": "code",
      "source": [
        "# test\n",
        "\n",
        "import numpy as np \n",
        "\n",
        "with torch.no_grad():\n",
        "  \n",
        "  X_test = mnist_test.test_data.view(-1,784).float().to(device)\n",
        "  Y_test = mnist_test.test_labels.to(device)\n",
        "\n",
        "  pred = linear(X_test)\n",
        "  correct_pred = torch.argmax(pred, 1) == Y_test\n",
        "  acc = correct_pred.float().mean()\n",
        "  print(\"ACC:\",np.round(acc.item(),4))\n",
        "\n"
      ],
      "metadata": {
        "colab": {
          "base_uri": "https://localhost:8080/"
        },
        "id": "thErQx0BsWoj",
        "outputId": "3b42dc8b-c30c-49dc-a00d-d66acbde804a"
      },
      "execution_count": 81,
      "outputs": [
        {
          "output_type": "stream",
          "name": "stdout",
          "text": [
            "ACC: 0.8801\n"
          ]
        }
      ]
    },
    {
      "cell_type": "code",
      "source": [
        "with torch.no_grad():\n",
        "  r = random.randint(0 , len(mnist_test)-1)\n",
        "  X_data = mnist_test.test_data[r: r+1].view(-1,784).float().to(device)\n",
        "  Y_data = mnist_test.test_labels[r: r+1].to(device)\n",
        "\n",
        "  print(\"Label:\",Y_data.item())\n",
        "  single_pred = linear(X_data)\n",
        "  print(\"prediction:\", torch.argmax(single_pred,1).item())\n",
        "\n",
        "  plt.imshow(mnist_test.test_data[r:r+1].view(28,28), \n",
        "             cmap = 'Greys',\n",
        "             interpolation= 'nearest')\n",
        "  plt.show()"
      ],
      "metadata": {
        "colab": {
          "base_uri": "https://localhost:8080/",
          "height": 301
        },
        "id": "u2yy-NZR1Lgs",
        "outputId": "f4689f34-354d-401d-ae78-9fbfbe3a4eb5"
      },
      "execution_count": 78,
      "outputs": [
        {
          "output_type": "stream",
          "name": "stdout",
          "text": [
            "Label: 3\n",
            "prediction: 3\n"
          ]
        },
        {
          "output_type": "display_data",
          "data": {
            "text/plain": [
              "<Figure size 432x288 with 1 Axes>"
            ],
            "image/png": "[encoded data removed]"
          },
          "metadata": {
            "needs_background": "light"
          }
        }
      ]
    }
  ]
}