{
  "nbformat": 4,
  "nbformat_minor": 0,
  "metadata": {
    "colab": {
      "provenance": [],
      "authorship_tag": "ABX9TyOoJ92lRWTU8QkfD4LWPEwN",
      "include_colab_link": true
    },
    "kernelspec": {
      "name": "python3",
      "display_name": "Python 3"
    },
    "language_info": {
      "name": "python"
    },
    "accelerator": "GPU",
    "gpuClass": "standard"
  },
  "cells": [
    {
      "cell_type": "markdown",
      "metadata": {
        "id": "view-in-github",
        "colab_type": "text"
      },
      "source": [
        "<a href=\"https://colab.research.google.com/github/tommyEzreal/study_low_level/blob/main/pytorch/%EB%AA%A8%EB%91%90%EB%A5%BC%EC%9C%84%ED%95%9C%EB%94%A5%EB%9F%AC%EB%8B%9D2/RNN_seq2seq.ipynb\" target=\"_parent\"><img src=\"https://colab.research.google.com/assets/colab-badge.svg\" alt=\"Open In Colab\"/></a>"
      ]
    },
    {
      "cell_type": "code",
      "execution_count": null,
      "metadata": {
        "id": "uG56xNFlJC_l"
      },
      "outputs": [],
      "source": [
        "# difference between vanilla RNN and seq2seq \n",
        "\n",
        "# \"Today's perfect weather makes me such sad\"\n",
        "# 문장을 끝까지 듣고 답변을 출력하는 encoder - decoder architecture\n"
      ]
    },
    {
      "cell_type": "code",
      "source": [
        "import random \n",
        "import torch\n",
        "import torch.nn as nn"
      ],
      "metadata": {
        "id": "J5rpY-ajL1x-"
      },
      "execution_count": 1,
      "outputs": []
    },
    {
      "cell_type": "code",
      "source": [
        "torch.manual_seed(0)\n",
        "device = torch.device('cuda' if torch.cuda.is_available() else 'cpu')\n",
        "\n",
        "raw = [\"I feel hungry.\t나는 배가 고프다.\",\n",
        "       \"Pytorch is very easy.\t파이토치는 매우 쉽다.\",\n",
        "       \"Pytorch is a framework for deep learning.   파이토치는 딥러닝을 위한 프레임워크이다.\"]\n",
        "\n",
        "SOS_token = 0\n",
        "EOS_token = 1"
      ],
      "metadata": {
        "id": "dVrJXYR5L1vp"
      },
      "execution_count": 210,
      "outputs": []
    },
    {
      "cell_type": "code",
      "source": [
        "# vocab class\n",
        "# vocab->index / index -> vocab\n",
        "\n",
        "class Vocab:\n",
        "  def __init__(self):\n",
        "    self.vocab2index = {\"<SOS>\": SOS_token, \"<EOS>\": EOS_token}\n",
        "    self.index2vocab = {SOS_token : \"<SOS>\", EOS_token:\"<EOS>\"}\n",
        "    self.vocab_count = {}\n",
        "    self.n_vocab = len(self.vocab2index)\n",
        "\n",
        "  def add_vocab(self, sentence):\n",
        "    for word in sentence.split(\" \"):\n",
        "      if word not in self.vocab2index:\n",
        "        self.vocab2index[word] = self.n_vocab\n",
        "        self.vocab_count[word] = 1\n",
        "        self.index2vocab[self.n_vocab] = word\n",
        "        self.n_vocab +=1 \n",
        "      else:\n",
        "        self.vocab_count[word] +=1 "
      ],
      "metadata": {
        "id": "BnWtfwOtff_E"
      },
      "execution_count": 35,
      "outputs": []
    },
    {
      "cell_type": "code",
      "source": [
        "vocab = Vocab()\n",
        "vocab.add_vocab(\"Pytorch is very easy.  파이토치는 너무 어렵습니다.\")\n",
        "print(vocab.vocab2index, vocab.index2vocab)\n",
        "print(vocab.vocab_count, vocab.n_vocab)"
      ],
      "metadata": {
        "colab": {
          "base_uri": "https://localhost:8080/"
        },
        "id": "az6p1oAzhGLI",
        "outputId": "b75fd43e-e9ad-40f0-8d4d-29675cf149e1"
      },
      "execution_count": 114,
      "outputs": [
        {
          "output_type": "stream",
          "name": "stdout",
          "text": [
            "{'<SOS>': 0, '<EOS>': 1, 'Pytorch': 2, 'is': 3, 'very': 4, 'easy.': 5, '': 6, '파이토치는': 7, '너무': 8, '어렵습니다.': 9} {0: '<SOS>', 1: '<EOS>', 2: 'Pytorch', 3: 'is', 4: 'very', 5: 'easy.', 6: '', 7: '파이토치는', 8: '너무', 9: '어렵습니다.'}\n",
            "{'Pytorch': 1, 'is': 1, 'very': 1, 'easy.': 1, '': 1, '파이토치는': 1, '너무': 1, '어렵습니다.': 1} 10\n"
          ]
        }
      ]
    },
    {
      "cell_type": "code",
      "source": [],
      "metadata": {
        "id": "25L3AwXUiwZO"
      },
      "execution_count": null,
      "outputs": []
    },
    {
      "cell_type": "code",
      "source": [
        "# source&target maxlen 초과여부 측정 \n",
        "def filter_pair(pair, source_max_length, target_max_length):\n",
        "  return len(pair[0].split(\" \")) < source_max_length and len(pair[1].split(\" \")) < target_max_length"
      ],
      "metadata": {
        "id": "RaLF4XaDSB9g"
      },
      "execution_count": 98,
      "outputs": []
    },
    {
      "cell_type": "code",
      "source": [
        "# read and preprocess the corpus data\n",
        "def preprocess(corpus, source_max_length, target_max_length):\n",
        "    print(\"reading corpus...\")\n",
        "\n",
        "    pairs = [] # [[pair],[pair],[pair]]\n",
        "    for line in corpus:\n",
        "        pairs.append([s for s in line.strip().lower().split(\"\\t\")])\n",
        "    print(\"Read {} sentence pairs\".format(len(pairs)))\n",
        "\n",
        "    # filter (maxlength 넘지않는것만 pairs로 저장)\n",
        "    pairs = [pair for pair in pairs if filter_pair(pair, source_max_length, target_max_length)]\n",
        "    print(\"Trimmed to {} sentence pairs\".format(len(pairs)))\n",
        "\n",
        "    source_vocab = Vocab()\n",
        "    target_vocab = Vocab()\n",
        "    \n",
        "    # source target 각각 vocab 추가 \n",
        "    print(\"Counting words...\")\n",
        "    for pair in pairs:\n",
        "        source_vocab.add_vocab(pair[0])\n",
        "        target_vocab.add_vocab(pair[1])\n",
        "    print(\"source vocab size =\", source_vocab.n_vocab)\n",
        "    print(\"target vocab size =\", target_vocab.n_vocab)\n",
        "\n",
        "    return pairs, source_vocab, target_vocab"
      ],
      "metadata": {
        "id": "YOP3cM6tL1tg"
      },
      "execution_count": 115,
      "outputs": []
    },
    {
      "cell_type": "code",
      "source": [],
      "metadata": {
        "id": "U-5FSAuXIocG"
      },
      "execution_count": null,
      "outputs": []
    },
    {
      "cell_type": "code",
      "source": [
        "# declare max length for sentence\n",
        "SOURCE_MAX_LENGTH = 10\n",
        "TARGET_MAX_LENGTH = 12"
      ],
      "metadata": {
        "id": "t6JrF9ibL1q0"
      },
      "execution_count": 116,
      "outputs": []
    },
    {
      "cell_type": "code",
      "source": [
        "# encoder decoder "
      ],
      "metadata": {
        "id": "vQkWXm_iL1ik"
      },
      "execution_count": 184,
      "outputs": []
    },
    {
      "cell_type": "code",
      "source": [
        "class Encoder(torch.nn.Module):\n",
        "  def __init__(self, input_size, hidden_size):\n",
        "    super(Encoder, self).__init__()\n",
        "    self.hidden_size = hidden_size\n",
        "    self.embedding = torch.nn.Embedding(input_size, hidden_size)\n",
        "    self.gru = torch.nn.GRU(hidden_size, hidden_size)\n",
        "  \n",
        "  def forward(self,x,hidden):\n",
        "    x = self.embedding(x).view(1,1,-1)\n",
        "    x, hidden = self.gru(x,hidden)\n",
        "    return x, hidden"
      ],
      "metadata": {
        "id": "pgUezHIRL1f-"
      },
      "execution_count": 216,
      "outputs": []
    },
    {
      "cell_type": "code",
      "source": [
        "from prompt_toolkit import output\n",
        "class Decoder(torch.nn.Module):\n",
        "  def __init__(self, hidden_size, output_size):\n",
        "    super(Decoder, self).__init__()\n",
        "    self.hidden_size = hidden_size\n",
        "    self.embedding = torch.nn.Embedding(output_size, hidden_size)\n",
        "    self.gru = torch.nn.GRU(hidden_size, hidden_size)\n",
        "    self.out = nn.Linear(hidden_size, output_size)\n",
        "    self.softmax = nn.LogSoftmax(dim=1)\n",
        "\n",
        "  def forward(self, x, hidden):\n",
        "    x = self.embedding(x).view(1,1,-1)\n",
        "    x, hidden = self.gru(x, hidden)\n",
        "    x = self.softmax(self.out(x[0]))\n",
        "    return x, hidden "
      ],
      "metadata": {
        "id": "ktZ-7_TsL1dw"
      },
      "execution_count": 214,
      "outputs": []
    },
    {
      "cell_type": "code",
      "source": [
        "# sentence to index tensor \n",
        "def tensorize(vocab, sentence):\n",
        "  indices = [vocab.vocab2index[word] for word in sentence.split(\" \")]\n",
        "  indices.append(vocab.vocab2index[\"<EOS>\"])\n",
        "  return torch.Tensor(indices).long().to(device).view(-1,1)"
      ],
      "metadata": {
        "id": "Fy251Hc-L1bi"
      },
      "execution_count": 187,
      "outputs": []
    },
    {
      "cell_type": "code",
      "source": [
        "preprocessed_pairs, source_vocab, target_vocab = preprocess(raw, 10,12)\n",
        "\n",
        "print(\"paris:\",preprocessed_pairs)\n",
        "print(source_vocab, target_vocab)"
      ],
      "metadata": {
        "colab": {
          "base_uri": "https://localhost:8080/"
        },
        "id": "hXR7orbDL1ZA",
        "outputId": "a51ec080-054e-4b72-982b-30dfde9b5da7"
      },
      "execution_count": 198,
      "outputs": [
        {
          "output_type": "stream",
          "name": "stdout",
          "text": [
            "reading corpus...\n",
            "Read 3 sentence pairs\n",
            "Trimmed to 2 sentence pairs\n",
            "Counting words...\n",
            "source vocab size = 9\n",
            "target vocab size = 8\n",
            "paris: [['i feel hungry.', '나는 배가 고프다.'], ['pytorch is very easy.', '파이토치는 매우 쉽다.']]\n",
            "<__main__.Vocab object at 0x7f6c7c2686d0> <__main__.Vocab object at 0x7f6c7c268f70>\n"
          ]
        }
      ]
    },
    {
      "cell_type": "code",
      "source": [
        "tensorize(source_vocab, preprocessed_pairs[0][0]), preprocessed_pairs[0][0]"
      ],
      "metadata": {
        "colab": {
          "base_uri": "https://localhost:8080/"
        },
        "id": "5fxQbtwhL1Wk",
        "outputId": "03999aef-fd05-4ee5-f65f-a88c03fdfb96"
      },
      "execution_count": 199,
      "outputs": [
        {
          "output_type": "execute_result",
          "data": {
            "text/plain": [
              "(tensor([[2],\n",
              "         [3],\n",
              "         [4],\n",
              "         [1]], device='cuda:0'), 'i feel hungry.')"
            ]
          },
          "metadata": {},
          "execution_count": 199
        }
      ]
    },
    {
      "cell_type": "code",
      "source": [
        "x = 'dd'\n",
        "[x for _ in range(9)]"
      ],
      "metadata": {
        "colab": {
          "base_uri": "https://localhost:8080/"
        },
        "id": "b4T1fzbdQKJR",
        "outputId": "4b86a1f8-a7c0-4619-82f7-a68360379d8b"
      },
      "execution_count": 204,
      "outputs": [
        {
          "output_type": "execute_result",
          "data": {
            "text/plain": [
              "['dd', 'dd', 'dd', 'dd', 'dd', 'dd', 'dd', 'dd', 'dd']"
            ]
          },
          "metadata": {},
          "execution_count": 204
        }
      ]
    },
    {
      "cell_type": "code",
      "source": [
        "def train(pairs, source_vocab, target_vocab,\n",
        "          encoder, decoder, epochs, print_every = 1000,\n",
        "          learning_rate = 0.01):\n",
        "  loss_total = 0\n",
        "\n",
        "  # define optim \n",
        "  encoder_optimizer = torch.optim.Adam(encoder.parameters(), lr=learning_rate)\n",
        "  decoder_optimizer = torch.optim.Adam(decoder.parameters(), lr=learning_rate)\n",
        "\n",
        "  # loss \n",
        "  criterion = nn.NLLLoss()\n",
        "\n",
        "  # batch manually ([rand_pair,..])\n",
        "  training_batch = [random.choice(pairs) for _ in range(epochs)]\n",
        "  \n",
        "  # batch에서 pair꺼내서 vocab 2 index\n",
        "  training_source = [tensorize(source_vocab, pair[0]) for pair in training_batch]\n",
        "  training_target = [tensorize(target_vocab, pair[1]) for pair in training_batch]\n",
        "\n",
        "  # training loop\n",
        "  for epoch in range(1, epochs+1):\n",
        "    source_tensor = training_source[epoch-1]\n",
        "    target_tensor = training_target[epoch-1]\n",
        "\n",
        "    encoder_hidden = torch.zeros([1,1, encoder.hidden_size]).to(device)\n",
        "\n",
        "    encoder_optimizer.zero_grad\n",
        "    decoder_optimizer.zero_grad\n",
        "\n",
        "    source_len = source_tensor.size(0)\n",
        "    target_len = target_tensor.size(0)\n",
        "\n",
        "    loss=0\n",
        "    \n",
        "    for enc_input in range(source_len):\n",
        "      _, encoder_hidden = encoder(source_tensor[enc_input], encoder_hidden)\n",
        "    \n",
        "    decoder_input = torch.Tensor([[SOS_token]]).long().to(device)\n",
        "    # encoder output -> decoder input \n",
        "    decoder_hidden = encoder_hidden\n",
        "\n",
        "    for di in range(target_len):\n",
        "      decoder_output, decoder_hidden = decoder(decoder_input, decoder_hidden)\n",
        "      loss += criterion(decoder_output, target_tensor[di])\n",
        "      decoder_input = target_tensor[di]\n",
        "\n",
        "    loss.backward()\n",
        "\n",
        "    encoder_optimizer.step()\n",
        "    decoder_optimizer.step()\n",
        "    \n",
        "    loss_iter = loss.item() / target_len\n",
        "    loss_total += loss_iter\n",
        "\n",
        "    if epoch % print_every ==0:\n",
        "      loss_avg = loss_total / print_every\n",
        "      loss_total = 0\n",
        "      print(\"[{} - {}%] loss = {:05.4f}\".format(epoch, epoch / epochs * 100, loss_avg))"
      ],
      "metadata": {
        "id": "4ouipL1lL1UE"
      },
      "execution_count": 205,
      "outputs": []
    },
    {
      "cell_type": "code",
      "source": [
        "source_max_len = 10\n",
        "target_max_len = 12\n",
        "\n",
        "processed_pairs, source_vocab, target_vocab = preprocess(raw, source_max_len, target_max_len)\n",
        "print(\"raw:\",raw)\n",
        "print(processed_pairs)"
      ],
      "metadata": {
        "colab": {
          "base_uri": "https://localhost:8080/"
        },
        "id": "pj2y2YBzVRIN",
        "outputId": "9ba7995d-4696-4645-a408-0c53df5f4b5c"
      },
      "execution_count": 221,
      "outputs": [
        {
          "output_type": "stream",
          "name": "stdout",
          "text": [
            "reading corpus...\n",
            "Read 3 sentence pairs\n",
            "Trimmed to 2 sentence pairs\n",
            "Counting words...\n",
            "source vocab size = 9\n",
            "target vocab size = 8\n",
            "raw: ['I feel hungry.\\t나는 배가 고프다.', 'Pytorch is very easy.\\t파이토치는 매우 쉽다.', 'Pytorch is a framework for deep learning.   파이토치는 딥러닝을 위한 프레임워크이다.']\n",
            "[['i feel hungry.', '나는 배가 고프다.'], ['pytorch is very easy.', '파이토치는 매우 쉽다.']]\n"
          ]
        }
      ]
    },
    {
      "cell_type": "code",
      "source": [
        "enc_hidden_size = 16\n",
        "dec_hidden_size = enc_hidden_size\n",
        "\n",
        "# Encoder(input_size, hidden_size)\n",
        "enc = Encoder(source_vocab.n_vocab, enc_hidden_size).to(device)\n",
        "\n",
        "# Decoder(hidden_size, output_size)\n",
        "dec = Decoder(dec_hidden_size, target_vocab.n_vocab).to(device)"
      ],
      "metadata": {
        "id": "1uY82mmdWJGv"
      },
      "execution_count": 222,
      "outputs": []
    },
    {
      "cell_type": "code",
      "source": [
        "# train\n",
        "# def train(pairs, source_vocab, target_vocab,\n",
        "#          encoder, decoder, epochs, print_every = 1000,\n",
        "#          learning_rate = 0.01)\n",
        "\n",
        "train(pairs = processed_pairs,\n",
        "      source_vocab = source_vocab,\n",
        "      target_vocab = target_vocab,\n",
        "      encoder = enc,\n",
        "      decoder = dec,\n",
        "      epochs = 100,\n",
        "      print_every = 10,\n",
        "      learning_rate = 0.01)"
      ],
      "metadata": {
        "colab": {
          "base_uri": "https://localhost:8080/"
        },
        "id": "XtsPnp53WJEd",
        "outputId": "8e0b3ad1-f597-40bb-a175-1ae5edf11f1b"
      },
      "execution_count": 223,
      "outputs": [
        {
          "output_type": "stream",
          "name": "stdout",
          "text": [
            "[10 - 10.0%] loss = 1.8248\n",
            "[20 - 20.0%] loss = 1.0362\n",
            "[30 - 30.0%] loss = 0.4296\n",
            "[40 - 40.0%] loss = 0.1664\n",
            "[50 - 50.0%] loss = 0.0480\n",
            "[60 - 60.0%] loss = 0.0118\n",
            "[70 - 70.0%] loss = 0.0089\n",
            "[80 - 80.0%] loss = 0.0040\n",
            "[90 - 90.0%] loss = 0.0025\n",
            "[100 - 100.0%] loss = 0.0016\n"
          ]
        }
      ]
    },
    {
      "cell_type": "code",
      "source": [
        "def evaluate(pairs, source_vocab, target_vocab,\n",
        "             encoder, decoder, target_max_len):\n",
        "  for pair in pairs:\n",
        "    print(\">\", pair[0])\n",
        "    print(\"TRANS\", pair[1])\n",
        "\n",
        "    source_tensor = tensorize(source_vocab, pair[0])\n",
        "    source_len = source_tensor.size()[0]\n",
        "    encoder_hidden = torch.zeros([1,1, encoder.hidden_size]).to(device)\n",
        "\n",
        "    for i in range(source_len):\n",
        "      _, encoder_hidden = encoder(source_tensor[i], encoder_hidden)\n",
        "\n",
        "      decoder_input = torch.Tensor([[SOS_token]]).long().to(device)\n",
        "      decoder_hidden = encoder_hidden\n",
        "      \n",
        "      decoded_words = []\n",
        "      for di in range(target_max_len):\n",
        "        decoder_output, decoder_hidden = decoder(decoder_input, decoder_hidden)\n",
        "        _, top_index = decoder_output.data.topk(1)\n",
        "        \n",
        "        if top_index.item() == EOS_token:\n",
        "          decoded_words.append(\"<EOS>\") # EOS token 보이면 end \n",
        "          break\n",
        "        else:\n",
        "          decoded_words.append(target_vocab.index2vocab[top_index.item()])\n",
        "        \n",
        "        decoder_input = top_index.squeeze().detach()\n",
        "\n",
        "      #prediction\n",
        "      predict_words = decoded_words\n",
        "      predict_sentence = \"\".join(predict_words)\n",
        "      print(\"<\", predict_sentence)\n",
        "      print()\n"
      ],
      "metadata": {
        "id": "gnPdu-jiWJCD"
      },
      "execution_count": 230,
      "outputs": []
    },
    {
      "cell_type": "code",
      "source": [
        "evaluate(pairs = processed_pairs,\n",
        "         source_vocab = source_vocab,\n",
        "         target_vocab = target_vocab,\n",
        "         encoder = enc,\n",
        "         decoder = dec, \n",
        "         target_max_len = target_max_len)"
      ],
      "metadata": {
        "colab": {
          "base_uri": "https://localhost:8080/"
        },
        "id": "6z8LewfabCbm",
        "outputId": "d91d3025-8545-4abb-8cf1-5eb5ee1470ca"
      },
      "execution_count": 231,
      "outputs": [
        {
          "output_type": "stream",
          "name": "stdout",
          "text": [
            "> i feel hungry.\n",
            "TRANS 나는 배가 고프다.\n",
            "< 나는배가고프다.<EOS>\n",
            "\n",
            "< 나는배가고프다.<EOS>\n",
            "\n",
            "< 나는배가고프다.<EOS>\n",
            "\n",
            "< 나는배가고프다.<EOS>\n",
            "\n",
            "> pytorch is very easy.\n",
            "TRANS 파이토치는 매우 쉽다.\n",
            "< 나는배가고프다.<EOS>\n",
            "\n",
            "< 나는배가고프다.<EOS>\n",
            "\n",
            "< 파이토치는매우쉽다.<EOS>\n",
            "\n",
            "< 파이토치는매우쉽다.<EOS>\n",
            "\n",
            "< 파이토치는매우쉽다.<EOS>\n",
            "\n"
          ]
        }
      ]
    }
  ]
}