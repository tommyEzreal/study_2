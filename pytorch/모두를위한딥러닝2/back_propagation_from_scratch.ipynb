{
  "nbformat": 4,
  "nbformat_minor": 0,
  "metadata": {
    "colab": {
      "provenance": [],
      "authorship_tag": "ABX9TyOtZvJ/oQmVusTpCkY6ATwa",
      "include_colab_link": true
    },
    "kernelspec": {
      "name": "python3",
      "display_name": "Python 3"
    },
    "language_info": {
      "name": "python"
    }
  },
  "cells": [
    {
      "cell_type": "markdown",
      "metadata": {
        "id": "view-in-github",
        "colab_type": "text"
      },
      "source": [
        "<a href=\"https://colab.research.google.com/github/tommyEzreal/study_low_level/blob/main/pytorch/%EB%AA%A8%EB%91%90%EB%A5%BC%EC%9C%84%ED%95%9C%EB%94%A5%EB%9F%AC%EB%8B%9D2/back_propagation_from_scratch.ipynb\" target=\"_parent\"><img src=\"https://colab.research.google.com/assets/colab-badge.svg\" alt=\"Open In Colab\"/></a>"
      ]
    },
    {
      "cell_type": "code",
      "execution_count": 4,
      "metadata": {
        "id": "GRi4-EgJ9wL0"
      },
      "outputs": [],
      "source": [
        "import torch\n",
        "import torch.nn as nn"
      ]
    },
    {
      "cell_type": "code",
      "source": [
        "device = 'cuda' if torch.cuda.is_available() else 'cpu'\n",
        "\n",
        "# for reproducibility\n",
        "torch.manual_seed(777)\n",
        "if device == 'cuda':\n",
        "    torch.cuda.manual_seed_all(777)"
      ],
      "metadata": {
        "id": "zOljoKoM9_DS"
      },
      "execution_count": 3,
      "outputs": []
    },
    {
      "cell_type": "code",
      "source": [
        "X = torch.FloatTensor([[0, 0], [0, 1], [1, 0], [1, 1]]).to(device)\n",
        "Y = torch.FloatTensor([[0], [1], [1], [0]]).to(device)"
      ],
      "metadata": {
        "id": "ig9FfO3I90y4"
      },
      "execution_count": 5,
      "outputs": []
    },
    {
      "cell_type": "code",
      "source": [
        "w1 = torch.Tensor(2,2).to(device)\n",
        "b1 = torch.Tensor(2).to(device)\n",
        "\n",
        "w2 = torch.Tensor(2,1).to(device)\n",
        "b2 = torch.Tensor(1).to(device)\n",
        "\n",
        "w1.shape, b1.shape, w2.shape, b2.shape"
      ],
      "metadata": {
        "colab": {
          "base_uri": "https://localhost:8080/"
        },
        "id": "I4qOAMla90wl",
        "outputId": "659014e2-1910-4c5d-c9c3-955f93f4f2ce"
      },
      "execution_count": 6,
      "outputs": [
        {
          "output_type": "execute_result",
          "data": {
            "text/plain": [
              "(torch.Size([2, 2]), torch.Size([2]), torch.Size([2, 1]), torch.Size([1]))"
            ]
          },
          "metadata": {},
          "execution_count": 6
        }
      ]
    },
    {
      "cell_type": "code",
      "source": [
        "# sigmoid and 도함수 \n",
        "def sigmoid(x):\n",
        "  return 1.0/(1.0+torch.exp(-x))\n",
        "\n",
        "def sigmoid_prime(x):\n",
        "  return sigmoid(x) * (1-sigmoid(x))"
      ],
      "metadata": {
        "id": "FCeByCMf90sX"
      },
      "execution_count": 7,
      "outputs": []
    },
    {
      "cell_type": "code",
      "source": [
        "# forward \n",
        "\n",
        "for step in range(10001):\n",
        "  layer1 = torch.add(torch.matmul(X,w1),b1)\n",
        "  a1 = sigmoid(layer1)\n",
        "\n",
        "  layer2 = torch.add(torch.matmul(a1,w2),b2)\n",
        "  Y_pred = sigmoid(layer2)\n",
        "\n",
        "  # binary cross_entropy\n",
        "  cost = -torch.mean(Y* torch.log(Y_pred) + (1-Y) * torch.log(1-Y_pred))"
      ],
      "metadata": {
        "id": "lEBzDXXN90p6"
      },
      "execution_count": 9,
      "outputs": []
    },
    {
      "cell_type": "code",
      "source": [
        "# back prop \n",
        "for step in range(10001):\n",
        "  # cost derivative\n",
        "  d_Y_pred = (Y_pred - Y) / (Y_pred) * (1.0 - Y_pred) + 1e-7\n",
        "\n",
        "  # Layer2\n",
        "  d_l2 = d_Y_pred * sigmoid_prime(layer2)\n",
        "  d_b2 = d_l2\n",
        "  d_w2 = torch.matmul(torch.transpose(a1,0,1), d_l2)\n",
        "\n",
        "  # Layer1 \n",
        "  d_a1 = torch.matmul(d_b2, torch.transpose(w2, 0, 1))\n",
        "  d_l1 = d_a1 * sigmoid_prime(layer1)\n",
        "  d_b1 = d_l1\n",
        "  d_w1 = torch.matmul(torch.transpose(X,0,1), d_l1)"
      ],
      "metadata": {
        "id": "ahDcO0Rs90lK"
      },
      "execution_count": 11,
      "outputs": []
    },
    {
      "cell_type": "code",
      "source": [
        "# update weight & bias\n",
        "for step in range(10001):\n",
        "  lr = 1e-5\n",
        "  \n",
        "  w1 = w1 - lr * d_w1\n",
        "  b1 = b1 - lr * torch.mean(d_b1,0)\n",
        "  w2 = w2 - lr * d_w2\n",
        "  b2 = b2 - lr * torch.mean(d_b2,0)"
      ],
      "metadata": {
        "id": "TJHIGodt90is"
      },
      "execution_count": 13,
      "outputs": []
    },
    {
      "cell_type": "markdown",
      "source": [
        "with pytorch \n",
        "\n",
        "- backward()\n",
        ", step()\n"
      ],
      "metadata": {
        "id": "ARfztMUtQex4"
      }
    },
    {
      "cell_type": "code",
      "source": [
        "X = torch.FloatTensor([[0, 0], [0, 1], [1, 0], [1, 1]]).to(device)\n",
        "Y = torch.FloatTensor([[0], [1], [1], [0]]).to(device)"
      ],
      "metadata": {
        "id": "ArPuFIoIRUbm"
      },
      "execution_count": 18,
      "outputs": []
    },
    {
      "cell_type": "code",
      "source": [
        "linear1 = nn.Linear(2,2)\n",
        "linear2 = nn.Linear(2,1)\n",
        "sigmoid = nn.Sigmoid()\n",
        "\n",
        "model = nn.Sequential(linear1, sigmoid, linear2, sigmoid).to(device)\n",
        "\n",
        "criterion = nn.BCELoss().to(device)\n",
        "optimizer = torch.optim.SGD(model.parameters(), lr = 1)\n",
        "\n",
        "for step in range(10001):\n",
        "\n",
        "  h = model(X)\n",
        "  cost = criterion(h, Y)\n",
        "  \n",
        "  optimizer.zero_grad()\n",
        "  cost.backward()\n",
        "  optimizer.step()\n",
        "  if step % 100 ==0:\n",
        "    print(\"step: {}, cost: {}\" .format(\n",
        "        step, cost.item()\n",
        "    )) "
      ],
      "metadata": {
        "colab": {
          "base_uri": "https://localhost:8080/"
        },
        "id": "A5C9i_BZ90gb",
        "outputId": "7dd68f0b-4c98-4a32-a9aa-cedb5eeb6bc0"
      },
      "execution_count": 19,
      "outputs": [
        {
          "output_type": "stream",
          "name": "stdout",
          "text": [
            "step: 0, cost: 0.7897484302520752\n",
            "step: 100, cost: 0.6931442022323608\n",
            "step: 200, cost: 0.6930069923400879\n",
            "step: 300, cost: 0.6925492286682129\n",
            "step: 400, cost: 0.6885131001472473\n",
            "step: 500, cost: 0.6392948627471924\n",
            "step: 600, cost: 0.5031580328941345\n",
            "step: 700, cost: 0.26541388034820557\n",
            "step: 800, cost: 0.10213176906108856\n",
            "step: 900, cost: 0.05536278337240219\n",
            "step: 1000, cost: 0.03683806583285332\n",
            "step: 1100, cost: 0.02730216085910797\n",
            "step: 1200, cost: 0.021576061844825745\n",
            "step: 1300, cost: 0.017784208059310913\n",
            "step: 1400, cost: 0.015099124051630497\n",
            "step: 1500, cost: 0.013103023171424866\n",
            "step: 1600, cost: 0.011563518084585667\n",
            "step: 1700, cost: 0.010341499000787735\n",
            "step: 1800, cost: 0.009348811581730843\n",
            "step: 1900, cost: 0.008526950143277645\n",
            "step: 2000, cost: 0.007835767231881618\n",
            "step: 2100, cost: 0.007246576249599457\n",
            "step: 2200, cost: 0.006738506257534027\n",
            "step: 2300, cost: 0.006296063773334026\n",
            "step: 2400, cost: 0.0059073567390441895\n",
            "step: 2500, cost: 0.005563233979046345\n",
            "step: 2600, cost: 0.005256514996290207\n",
            "step: 2700, cost: 0.0049814567901194096\n",
            "step: 2800, cost: 0.004733373876661062\n",
            "step: 2900, cost: 0.004508516751229763\n",
            "step: 3000, cost: 0.004303860478103161\n",
            "step: 3100, cost: 0.004116742871701717\n",
            "step: 3200, cost: 0.0039450740441679955\n",
            "step: 3300, cost: 0.0037869452498853207\n",
            "step: 3400, cost: 0.003640928538516164\n",
            "step: 3500, cost: 0.0035055980551987886\n",
            "step: 3600, cost: 0.003379886969923973\n",
            "step: 3700, cost: 0.003262775484472513\n",
            "step: 3800, cost: 0.0031534521840512753\n",
            "step: 3900, cost: 0.0030511226505041122\n",
            "step: 4000, cost: 0.0029552013147622347\n",
            "step: 4100, cost: 0.002865058835595846\n",
            "step: 4200, cost: 0.0027801403775811195\n",
            "step: 4300, cost: 0.002700145822018385\n",
            "step: 4400, cost: 0.002624581102281809\n",
            "step: 4500, cost: 0.0025530559942126274\n",
            "step: 4600, cost: 0.0024853013455867767\n",
            "step: 4700, cost: 0.002421002369374037\n",
            "step: 4800, cost: 0.002359934151172638\n",
            "step: 4900, cost: 0.002301842672750354\n",
            "step: 5000, cost: 0.0022465772926807404\n",
            "step: 5100, cost: 0.002193824388086796\n",
            "step: 5200, cost: 0.002143493853509426\n",
            "step: 5300, cost: 0.002095375908538699\n",
            "step: 5400, cost: 0.002049366245046258\n",
            "step: 5500, cost: 0.002005314687266946\n",
            "step: 5600, cost: 0.001963116694241762\n",
            "step: 5700, cost: 0.0019226528238505125\n",
            "step: 5800, cost: 0.00188375823199749\n",
            "step: 5900, cost: 0.0018464624881744385\n",
            "step: 6000, cost: 0.0018105718772858381\n",
            "step: 6100, cost: 0.0017760260961949825\n",
            "step: 6200, cost: 0.0017427653074264526\n",
            "step: 6300, cost: 0.001710744807496667\n",
            "step: 6400, cost: 0.0016798896249383688\n",
            "step: 6500, cost: 0.0016500505153089762\n",
            "step: 6600, cost: 0.0016212870832532644\n",
            "step: 6700, cost: 0.001593524357303977\n",
            "step: 6800, cost: 0.0015666581457480788\n",
            "step: 6900, cost: 0.0015406731981784105\n",
            "step: 7000, cost: 0.0015155395958572626\n",
            "step: 7100, cost: 0.001491242554038763\n",
            "step: 7200, cost: 0.0014676623977720737\n",
            "step: 7300, cost: 0.001444843946956098\n",
            "step: 7400, cost: 0.0014226825442165136\n",
            "step: 7500, cost: 0.0014011785387992859\n",
            "step: 7600, cost: 0.0013803462497889996\n",
            "step: 7700, cost: 0.0013601413229480386\n",
            "step: 7800, cost: 0.0013404591009020805\n",
            "step: 7900, cost: 0.001321359071880579\n",
            "step: 8000, cost: 0.00130281166639179\n",
            "step: 8100, cost: 0.0012847271282225847\n",
            "step: 8200, cost: 0.0012671800795942545\n",
            "step: 8300, cost: 0.0012500957818701863\n",
            "step: 8400, cost: 0.0012334297643974423\n",
            "step: 8500, cost: 0.0012172412825748324\n",
            "step: 8600, cost: 0.0012014410458505154\n",
            "step: 8700, cost: 0.0011860737577080727\n",
            "step: 8800, cost: 0.0011710647959262133\n",
            "step: 8900, cost: 0.0011564439628273249\n",
            "step: 9000, cost: 0.0011421367526054382\n",
            "step: 9100, cost: 0.0011282472405582666\n",
            "step: 9200, cost: 0.0011146565666422248\n",
            "step: 9300, cost: 0.0011014090850949287\n",
            "step: 9400, cost: 0.001088460092432797\n",
            "step: 9500, cost: 0.001075749984011054\n",
            "step: 9600, cost: 0.0010634278878569603\n",
            "step: 9700, cost: 0.0010513297747820616\n",
            "step: 9800, cost: 0.00103947042953223\n",
            "step: 9900, cost: 0.0010279543930664659\n",
            "step: 10000, cost: 0.0010166324209421873\n"
          ]
        }
      ]
    },
    {
      "cell_type": "code",
      "source": [],
      "metadata": {
        "id": "OU-DAfrcQcRZ"
      },
      "execution_count": null,
      "outputs": []
    },
    {
      "cell_type": "code",
      "source": [],
      "metadata": {
        "id": "gYl-GIANQcPW"
      },
      "execution_count": null,
      "outputs": []
    },
    {
      "cell_type": "code",
      "source": [],
      "metadata": {
        "id": "Wa-7L9ciQcNU"
      },
      "execution_count": null,
      "outputs": []
    },
    {
      "cell_type": "code",
      "source": [],
      "metadata": {
        "id": "O5FUzdoCQcK4"
      },
      "execution_count": null,
      "outputs": []
    },
    {
      "cell_type": "code",
      "source": [],
      "metadata": {
        "id": "jNkiPLjYQcIK"
      },
      "execution_count": null,
      "outputs": []
    }
  ]
}