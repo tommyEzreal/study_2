{
  "nbformat": 4,
  "nbformat_minor": 0,
  "metadata": {
    "colab": {
      "provenance": [],
      "authorship_tag": "ABX9TyMND/a5t37qMNgSQxCi7Y1Y",
      "include_colab_link": true
    },
    "kernelspec": {
      "name": "python3",
      "display_name": "Python 3"
    },
    "language_info": {
      "name": "python"
    }
  },
  "cells": [
    {
      "cell_type": "markdown",
      "metadata": {
        "id": "view-in-github",
        "colab_type": "text"
      },
      "source": [
        "<a href=\"https://colab.research.google.com/github/tommyEzreal/study_low_level/blob/main/pytorch/%EB%AA%A8%EB%91%90%EB%A5%BC%EC%9C%84%ED%95%9C%EB%94%A5%EB%9F%AC%EB%8B%9D2/minibatch_customdataset.ipynb\" target=\"_parent\"><img src=\"https://colab.research.google.com/assets/colab-badge.svg\" alt=\"Open In Colab\"/></a>"
      ]
    },
    {
      "cell_type": "code",
      "execution_count": 3,
      "metadata": {
        "id": "NYTVG-mnvt9y"
      },
      "outputs": [],
      "source": [
        "import torch\n",
        "import torch.nn as nn\n",
        "import torch.nn.functional as F"
      ]
    },
    {
      "cell_type": "code",
      "source": [
        "torch.manual_seed(0)"
      ],
      "metadata": {
        "colab": {
          "base_uri": "https://localhost:8080/"
        },
        "id": "_QbJPDzfwCJQ",
        "outputId": "928118c8-0f23-478b-e988-b87f19a6addc"
      },
      "execution_count": 5,
      "outputs": [
        {
          "output_type": "execute_result",
          "data": {
            "text/plain": [
              "<torch._C.Generator at 0x7efbfaa07830>"
            ]
          },
          "metadata": {},
          "execution_count": 5
        }
      ]
    },
    {
      "cell_type": "markdown",
      "source": [
        "minibatch"
      ],
      "metadata": {
        "id": "p_lUgiLv6gP-"
      }
    },
    {
      "cell_type": "code",
      "source": [
        "x_train = torch.FloatTensor([[73, 80, 75],\n",
        "                             [93, 88, 93],\n",
        "                             [89, 91, 90],\n",
        "                             [96, 98, 100],\n",
        "                             [73, 66, 70]])\n",
        "y_train = torch.FloatTensor([[152], [185], [180], [196], [142]])"
      ],
      "metadata": {
        "id": "LO1KBNKtwBwQ"
      },
      "execution_count": 24,
      "outputs": []
    },
    {
      "cell_type": "code",
      "source": [
        "from torch.utils.data import TensorDataset\n",
        "from torch.utils.data import DataLoader "
      ],
      "metadata": {
        "id": "YAA37RG5wBt7"
      },
      "execution_count": 25,
      "outputs": []
    },
    {
      "cell_type": "code",
      "source": [
        "dataset = TensorDataset(x_train,y_train)"
      ],
      "metadata": {
        "id": "LMYkIWZawBrT"
      },
      "execution_count": 26,
      "outputs": []
    },
    {
      "cell_type": "code",
      "source": [
        "# dataloader - dataset, batchsize \n",
        "\n",
        "dataloader = DataLoader(dataset, batch_size = 2, shuffle=True)\n"
      ],
      "metadata": {
        "id": "DRucYjUmwBos"
      },
      "execution_count": 27,
      "outputs": []
    },
    {
      "cell_type": "code",
      "source": [
        "model = nn.Linear(3,1)\n",
        "optimizer = torch.optim.SGD(model.parameters(), lr=3e-5)\n",
        "\n",
        "epochs = 20 \n",
        "for epoch in range(epochs+1):\n",
        "  for batch_idx, samples in enumerate(dataloader):\n",
        "    x_train, y_train = samples\n",
        "    \n",
        "    pred = model(x_train)\n",
        "\n",
        "    loss = F.mse_loss(pred,y_train)\n",
        "\n",
        "    optimizer.zero_grad()\n",
        "    loss.backward()\n",
        "    optimizer.step()\n",
        "\n",
        "    print('Epoch: {:4d}/{} , Batch: {}/{} , loss: {:.6f}'.format(\n",
        "        epoch, epochs, batch_idx+1, len(dataloader), loss.item()\n",
        "        ))"
      ],
      "metadata": {
        "colab": {
          "base_uri": "https://localhost:8080/"
        },
        "id": "uRjvMA_37nMW",
        "outputId": "73ee1a4c-6b7c-46d0-8083-4007b4af6575"
      },
      "execution_count": 36,
      "outputs": [
        {
          "output_type": "stream",
          "name": "stdout",
          "text": [
            "Epoch:    0/20 , Batch: 1/3 , loss: 20494.957031\n",
            "Epoch:    0/20 , Batch: 2/3 , loss: 1634.572998\n",
            "Epoch:    0/20 , Batch: 3/3 , loss: 182.803299\n",
            "Epoch:    1/20 , Batch: 1/3 , loss: 27.282280\n",
            "Epoch:    1/20 , Batch: 2/3 , loss: 0.596344\n",
            "Epoch:    1/20 , Batch: 3/3 , loss: 0.129052\n",
            "Epoch:    2/20 , Batch: 1/3 , loss: 0.108364\n",
            "Epoch:    2/20 , Batch: 2/3 , loss: 6.812028\n",
            "Epoch:    2/20 , Batch: 3/3 , loss: 3.616532\n",
            "Epoch:    3/20 , Batch: 1/3 , loss: 0.536721\n",
            "Epoch:    3/20 , Batch: 2/3 , loss: 4.422066\n",
            "Epoch:    3/20 , Batch: 3/3 , loss: 6.791091\n",
            "Epoch:    4/20 , Batch: 1/3 , loss: 2.515577\n",
            "Epoch:    4/20 , Batch: 2/3 , loss: 3.848299\n",
            "Epoch:    4/20 , Batch: 3/3 , loss: 6.322152\n",
            "Epoch:    5/20 , Batch: 1/3 , loss: 3.108443\n",
            "Epoch:    5/20 , Batch: 2/3 , loss: 1.296252\n",
            "Epoch:    5/20 , Batch: 3/3 , loss: 10.363593\n",
            "Epoch:    6/20 , Batch: 1/3 , loss: 14.671616\n",
            "Epoch:    6/20 , Batch: 2/3 , loss: 10.480505\n",
            "Epoch:    6/20 , Batch: 3/3 , loss: 4.761553\n",
            "Epoch:    7/20 , Batch: 1/3 , loss: 0.494099\n",
            "Epoch:    7/20 , Batch: 2/3 , loss: 3.292184\n",
            "Epoch:    7/20 , Batch: 3/3 , loss: 5.939175\n",
            "Epoch:    8/20 , Batch: 1/3 , loss: 0.791184\n",
            "Epoch:    8/20 , Batch: 2/3 , loss: 3.759095\n",
            "Epoch:    8/20 , Batch: 3/3 , loss: 0.651408\n",
            "Epoch:    9/20 , Batch: 1/3 , loss: 0.496735\n",
            "Epoch:    9/20 , Batch: 2/3 , loss: 0.245547\n",
            "Epoch:    9/20 , Batch: 3/3 , loss: 7.463795\n",
            "Epoch:   10/20 , Batch: 1/3 , loss: 10.317225\n",
            "Epoch:   10/20 , Batch: 2/3 , loss: 8.599037\n",
            "Epoch:   10/20 , Batch: 3/3 , loss: 5.171918\n",
            "Epoch:   11/20 , Batch: 1/3 , loss: 0.798488\n",
            "Epoch:   11/20 , Batch: 2/3 , loss: 3.798377\n",
            "Epoch:   11/20 , Batch: 3/3 , loss: 0.953406\n",
            "Epoch:   12/20 , Batch: 1/3 , loss: 4.941290\n",
            "Epoch:   12/20 , Batch: 2/3 , loss: 6.635005\n",
            "Epoch:   12/20 , Batch: 3/3 , loss: 2.747108\n",
            "Epoch:   13/20 , Batch: 1/3 , loss: 0.715440\n",
            "Epoch:   13/20 , Batch: 2/3 , loss: 4.189214\n",
            "Epoch:   13/20 , Batch: 3/3 , loss: 3.913860\n",
            "Epoch:   14/20 , Batch: 1/3 , loss: 6.798383\n",
            "Epoch:   14/20 , Batch: 2/3 , loss: 5.751827\n",
            "Epoch:   14/20 , Batch: 3/3 , loss: 0.044417\n",
            "Epoch:   15/20 , Batch: 1/3 , loss: 7.078308\n",
            "Epoch:   15/20 , Batch: 2/3 , loss: 1.583914\n",
            "Epoch:   15/20 , Batch: 3/3 , loss: 0.976489\n",
            "Epoch:   16/20 , Batch: 1/3 , loss: 1.609310\n",
            "Epoch:   16/20 , Batch: 2/3 , loss: 5.541293\n",
            "Epoch:   16/20 , Batch: 3/3 , loss: 6.768683\n",
            "Epoch:   17/20 , Batch: 1/3 , loss: 2.372873\n",
            "Epoch:   17/20 , Batch: 2/3 , loss: 3.736618\n",
            "Epoch:   17/20 , Batch: 3/3 , loss: 1.249131\n",
            "Epoch:   18/20 , Batch: 1/3 , loss: 4.852545\n",
            "Epoch:   18/20 , Batch: 2/3 , loss: 2.628072\n",
            "Epoch:   18/20 , Batch: 3/3 , loss: 0.689815\n",
            "Epoch:   19/20 , Batch: 1/3 , loss: 2.131745\n",
            "Epoch:   19/20 , Batch: 2/3 , loss: 3.737833\n",
            "Epoch:   19/20 , Batch: 3/3 , loss: 0.000123\n",
            "Epoch:   20/20 , Batch: 1/3 , loss: 7.075646\n",
            "Epoch:   20/20 , Batch: 2/3 , loss: 3.422309\n",
            "Epoch:   20/20 , Batch: 3/3 , loss: 1.253330\n"
          ]
        }
      ]
    },
    {
      "cell_type": "markdown",
      "source": [
        "custom dataset "
      ],
      "metadata": {
        "id": "flCZTfLF947l"
      }
    },
    {
      "cell_type": "code",
      "source": [
        "x_train = torch.FloatTensor([[73, 80, 75],\n",
        "                             [93, 88, 93],\n",
        "                             [89, 91, 90],\n",
        "                             [96, 98, 100],\n",
        "                             [73, 66, 70]])\n",
        "y_train = torch.FloatTensor([[152], [185], [180], [196], [142]])"
      ],
      "metadata": {
        "id": "Yghs90gV-qGP"
      },
      "execution_count": 38,
      "outputs": []
    },
    {
      "cell_type": "code",
      "source": [
        "class CustomDataset(torch.utils.data.Dataset):\n",
        "  def __init__(self):\n",
        "    self.x_data = x_train\n",
        "    self.y_data = y_train\n",
        "  \n",
        "  # len of dataset = num of sample \n",
        "  def __len__(self):\n",
        "    return len(self.x_data)\n",
        "  \n",
        "  # get sample from dataset\n",
        "  def __getitem__(self,idx):\n",
        "    x = torch.FloatTensor(self.x_data[idx])\n",
        "    y = torch.FloatTensor(self.y_data[idx])\n",
        "    return x,y"
      ],
      "metadata": {
        "id": "77ivvKVR7nKD"
      },
      "execution_count": 39,
      "outputs": []
    },
    {
      "cell_type": "code",
      "source": [
        "dataset = CustomDataset()\n",
        "dataloader = DataLoader(dataset, batch_size=2, shuffle=True)\n"
      ],
      "metadata": {
        "id": "Q26X37px7nHp"
      },
      "execution_count": 41,
      "outputs": []
    },
    {
      "cell_type": "code",
      "source": [
        "print(list(i for i in dataloader)[0])\n",
        "print(list(i for i in dataloader)[1])  "
      ],
      "metadata": {
        "colab": {
          "base_uri": "https://localhost:8080/"
        },
        "id": "1TlMpExhwBl4",
        "outputId": "ab0d1a6f-7238-4b10-f0bd-ef1bde95a17b"
      },
      "execution_count": 54,
      "outputs": [
        {
          "output_type": "stream",
          "name": "stdout",
          "text": [
            "[tensor([[ 89.,  91.,  90.],\n",
            "        [ 96.,  98., 100.]]), tensor([[180.],\n",
            "        [196.]])]\n",
            "[tensor([[93., 88., 93.],\n",
            "        [73., 66., 70.]]), tensor([[185.],\n",
            "        [142.]])]\n"
          ]
        }
      ]
    },
    {
      "cell_type": "code",
      "source": [
        "dataset[0]"
      ],
      "metadata": {
        "colab": {
          "base_uri": "https://localhost:8080/"
        },
        "id": "Ihgc2J67__KI",
        "outputId": "3fbe4af7-ab73-41eb-c8fa-03e1a6c85d74"
      },
      "execution_count": 56,
      "outputs": [
        {
          "output_type": "execute_result",
          "data": {
            "text/plain": [
              "(tensor([73., 80., 75.]), tensor([152.]))"
            ]
          },
          "metadata": {},
          "execution_count": 56
        }
      ]
    }
  ]
}