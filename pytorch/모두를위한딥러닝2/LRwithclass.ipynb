{
  "nbformat": 4,
  "nbformat_minor": 0,
  "metadata": {
    "colab": {
      "provenance": [],
      "authorship_tag": "ABX9TyMp0xH6v2UP/+3wiHd3ndFT",
      "include_colab_link": true
    },
    "kernelspec": {
      "name": "python3",
      "display_name": "Python 3"
    },
    "language_info": {
      "name": "python"
    }
  },
  "cells": [
    {
      "cell_type": "markdown",
      "metadata": {
        "id": "view-in-github",
        "colab_type": "text"
      },
      "source": [
        "<a href=\"https://colab.research.google.com/github/tommyEzreal/study_low_level/blob/main/pytorch/%EB%AA%A8%EB%91%90%EB%A5%BC%EC%9C%84%ED%95%9C%EB%94%A5%EB%9F%AC%EB%8B%9D2/LRwithclass.ipynb\" target=\"_parent\"><img src=\"https://colab.research.google.com/assets/colab-badge.svg\" alt=\"Open In Colab\"/></a>"
      ]
    },
    {
      "cell_type": "code",
      "execution_count": 3,
      "metadata": {
        "id": "NYTVG-mnvt9y"
      },
      "outputs": [],
      "source": [
        "import torch\n",
        "import torch.nn as nn\n",
        "import torch.nn.functional as F"
      ]
    },
    {
      "cell_type": "code",
      "source": [
        "model = nn.Linear(1,1)"
      ],
      "metadata": {
        "id": "ivAtEzyIwCL3"
      },
      "execution_count": 4,
      "outputs": []
    },
    {
      "cell_type": "code",
      "source": [
        "torch.manual_seed(0)"
      ],
      "metadata": {
        "colab": {
          "base_uri": "https://localhost:8080/"
        },
        "id": "_QbJPDzfwCJQ",
        "outputId": "928118c8-0f23-478b-e988-b87f19a6addc"
      },
      "execution_count": 5,
      "outputs": [
        {
          "output_type": "execute_result",
          "data": {
            "text/plain": [
              "<torch._C.Generator at 0x7efbfaa07830>"
            ]
          },
          "metadata": {},
          "execution_count": 5
        }
      ]
    },
    {
      "cell_type": "code",
      "source": [
        "x_train = torch.FloatTensor([[1], [2], [3]])\n",
        "y_train = torch.FloatTensor([[2], [4], [6]])"
      ],
      "metadata": {
        "id": "6ZUNCAGgwCBs"
      },
      "execution_count": 6,
      "outputs": []
    },
    {
      "cell_type": "code",
      "source": [
        "# class 정의 (nn.Module 상속)\n",
        "\n",
        "class LinearRegressionModel(nn.Module):\n",
        "  def __init__(self):\n",
        "    super().__init__()\n",
        "    self.linear = nn.Linear(1,1)\n",
        "  \n",
        "  def forward(self, x): # 입력된 학습데이터로 forward연산 \n",
        "    return self.linear(x)"
      ],
      "metadata": {
        "id": "S-Ydm4mUwB_X"
      },
      "execution_count": 7,
      "outputs": []
    },
    {
      "cell_type": "code",
      "source": [
        "model = LinearRegressionModel()"
      ],
      "metadata": {
        "id": "_nt1_xB7wB8y"
      },
      "execution_count": 13,
      "outputs": []
    },
    {
      "cell_type": "code",
      "source": [
        "optimizer = torch.optim.SGD(model.parameters(),lr=0.01)"
      ],
      "metadata": {
        "id": "XKR45MAKwB6a"
      },
      "execution_count": 14,
      "outputs": []
    },
    {
      "cell_type": "code",
      "source": [
        "epochs = 1000\n",
        "\n",
        "for epoch in range(epochs+1):\n",
        "  pred = model(x_train)\n",
        "  cost = F.mse_loss(pred,y_train)\n",
        "\n",
        "  optimizer.zero_grad()\n",
        "  cost.backward()\n",
        "  optimizer.step()\n",
        "\n",
        "  if epoch % 100 ==0:\n",
        "    print('Epoch {:4d} / {}, W&b: {}, loss: {:.6f}'.format(\n",
        "        epoch, epochs, list(i.detach() for i in model.parameters()),cost.item() \n",
        "    ))"
      ],
      "metadata": {
        "colab": {
          "base_uri": "https://localhost:8080/"
        },
        "id": "9yermMMnwB4F",
        "outputId": "19924612-3b9e-4fcf-ee33-1fd0c21f04a8"
      },
      "execution_count": 15,
      "outputs": [
        {
          "output_type": "stream",
          "name": "stdout",
          "text": [
            "Epoch    0 / 1000, W&b: [tensor([[-0.5301]]), tensor([-0.6083])], loss: 46.043354\n",
            "Epoch  100 / 1000, W&b: [tensor([[1.8538]]), tensor([0.3324])], loss: 0.015929\n",
            "Epoch  200 / 1000, W&b: [tensor([[1.8850]]), tensor([0.2613])], loss: 0.009843\n",
            "Epoch  300 / 1000, W&b: [tensor([[1.9096]]), tensor([0.2054])], loss: 0.006082\n",
            "Epoch  400 / 1000, W&b: [tensor([[1.9290]]), tensor([0.1615])], loss: 0.003759\n",
            "Epoch  500 / 1000, W&b: [tensor([[1.9442]]), tensor([0.1269])], loss: 0.002323\n",
            "Epoch  600 / 1000, W&b: [tensor([[1.9561]]), tensor([0.0998])], loss: 0.001435\n",
            "Epoch  700 / 1000, W&b: [tensor([[1.9655]]), tensor([0.0784])], loss: 0.000887\n",
            "Epoch  800 / 1000, W&b: [tensor([[1.9729]]), tensor([0.0617])], loss: 0.000548\n",
            "Epoch  900 / 1000, W&b: [tensor([[1.9787]]), tensor([0.0485])], loss: 0.000339\n",
            "Epoch 1000 / 1000, W&b: [tensor([[1.9832]]), tensor([0.0381])], loss: 0.000209\n"
          ]
        }
      ]
    },
    {
      "cell_type": "markdown",
      "source": [
        "multi feature regression "
      ],
      "metadata": {
        "id": "6JBc63vzzva2"
      }
    },
    {
      "cell_type": "code",
      "source": [
        "class MultiVarLRModel(nn.Module):\n",
        "  def __init__(self):\n",
        "    super().__init__()\n",
        "    self.linear= nn.Linear(3,1)\n",
        "\n",
        "  def forward(self,x):\n",
        "    return self.linear(x)"
      ],
      "metadata": {
        "id": "gKu5wCSxwB1d"
      },
      "execution_count": 17,
      "outputs": []
    },
    {
      "cell_type": "code",
      "source": [
        "# data\n",
        "x_train = torch.FloatTensor([[73, 80, 75],\n",
        "                             [93, 88, 93],\n",
        "                             [89, 91, 90],\n",
        "                             [96, 98, 100],\n",
        "                             [73, 66, 70]])\n",
        "y_train = torch.FloatTensor([[152], [185], [180], [196], [142]])"
      ],
      "metadata": {
        "id": "3zDU7hTE2QWu"
      },
      "execution_count": 22,
      "outputs": []
    },
    {
      "cell_type": "code",
      "source": [
        "model = MultiVarLRModel()\n",
        "optimizer = torch.optim.SGD(model.parameters(),lr=1e-5)\n",
        "\n",
        "epochs = 1000\n",
        "for epoch in range(epochs+1):\n",
        "  pred = model(x_train)\n",
        "  loss = F.mse_loss(pred, y_train)\n",
        "\n",
        "  optimizer.zero_grad()\n",
        "  loss.backward()\n",
        "  optimizer.step()\n",
        "\n",
        "  if epoch % 100 == 0:\n",
        "    print('Epoch:{:4d}/{}, W&b:{}, loss:{:.6f}'.format(\n",
        "        epoch, epochs, list(i.detach() for i in model.parameters()), loss.item())\n",
        "    )\n"
      ],
      "metadata": {
        "colab": {
          "base_uri": "https://localhost:8080/"
        },
        "id": "GbRQYxLiwBy7",
        "outputId": "09c82178-1c60-403a-81e8-c5ffecf23d8f"
      },
      "execution_count": 23,
      "outputs": [
        {
          "output_type": "stream",
          "name": "stdout",
          "text": [
            "Epoch:   0/1000, W&b:[tensor([[0.2539, 0.4575, 0.1342]]), tensor([-0.1099])], loss:31953.359375\n",
            "Epoch: 100/1000, W&b:[tensor([[0.6503, 0.8352, 0.5284]]), tensor([-0.1053])], loss:3.281436\n",
            "Epoch: 200/1000, W&b:[tensor([[0.6584, 0.8256, 0.5299]]), tensor([-0.1051])], loss:3.120167\n",
            "Epoch: 300/1000, W&b:[tensor([[0.6663, 0.8162, 0.5314]]), tensor([-0.1050])], loss:2.967399\n",
            "Epoch: 400/1000, W&b:[tensor([[0.6740, 0.8070, 0.5328]]), tensor([-0.1049])], loss:2.822670\n",
            "Epoch: 500/1000, W&b:[tensor([[0.6815, 0.7981, 0.5342]]), tensor([-0.1047])], loss:2.685571\n",
            "Epoch: 600/1000, W&b:[tensor([[0.6888, 0.7895, 0.5356]]), tensor([-0.1046])], loss:2.555673\n",
            "Epoch: 700/1000, W&b:[tensor([[0.6959, 0.7811, 0.5368]]), tensor([-0.1045])], loss:2.432627\n",
            "Epoch: 800/1000, W&b:[tensor([[0.7028, 0.7729, 0.5381]]), tensor([-0.1043])], loss:2.316068\n",
            "Epoch: 900/1000, W&b:[tensor([[0.7095, 0.7649, 0.5393]]), tensor([-0.1042])], loss:2.205649\n",
            "Epoch:1000/1000, W&b:[tensor([[0.7161, 0.7571, 0.5405]]), tensor([-0.1041])], loss:2.101011\n"
          ]
        }
      ]
    },
    {
      "cell_type": "code",
      "source": [],
      "metadata": {
        "id": "LO1KBNKtwBwQ"
      },
      "execution_count": null,
      "outputs": []
    },
    {
      "cell_type": "code",
      "source": [],
      "metadata": {
        "id": "YAA37RG5wBt7"
      },
      "execution_count": null,
      "outputs": []
    },
    {
      "cell_type": "code",
      "source": [],
      "metadata": {
        "id": "LMYkIWZawBrT"
      },
      "execution_count": null,
      "outputs": []
    },
    {
      "cell_type": "code",
      "source": [],
      "metadata": {
        "id": "DRucYjUmwBos"
      },
      "execution_count": null,
      "outputs": []
    },
    {
      "cell_type": "code",
      "source": [],
      "metadata": {
        "id": "1TlMpExhwBl4"
      },
      "execution_count": null,
      "outputs": []
    }
  ]
}