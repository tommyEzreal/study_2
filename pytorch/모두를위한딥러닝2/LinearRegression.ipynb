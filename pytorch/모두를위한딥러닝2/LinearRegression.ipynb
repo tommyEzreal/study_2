{
  "nbformat": 4,
  "nbformat_minor": 0,
  "metadata": {
    "colab": {
      "provenance": [],
      "authorship_tag": "ABX9TyMF5JhbG2fg7QFXbOAgUGR/",
      "include_colab_link": true
    },
    "kernelspec": {
      "name": "python3",
      "display_name": "Python 3"
    },
    "language_info": {
      "name": "python"
    }
  },
  "cells": [
    {
      "cell_type": "markdown",
      "metadata": {
        "id": "view-in-github",
        "colab_type": "text"
      },
      "source": [
        "<a href=\"https://colab.research.google.com/github/tommyEzreal/study_low_level/blob/main/pytorch/%EB%AA%A8%EB%91%90%EB%A5%BC%EC%9C%84%ED%95%9C%EB%94%A5%EB%9F%AC%EB%8B%9D2/LinearRegression.ipynb\" target=\"_parent\"><img src=\"https://colab.research.google.com/assets/colab-badge.svg\" alt=\"Open In Colab\"/></a>"
      ]
    },
    {
      "cell_type": "code",
      "source": [
        "import torch \n",
        "import torch.nn as nn\n",
        "import torch.nn.functional as F\n",
        "import torch.optim as optim "
      ],
      "metadata": {
        "id": "jycFRuSR0PYA"
      },
      "execution_count": 2,
      "outputs": []
    },
    {
      "cell_type": "code",
      "source": [
        "# seed 고정\n",
        "torch.manual_seed(0)"
      ],
      "metadata": {
        "colab": {
          "base_uri": "https://localhost:8080/"
        },
        "id": "kA1dotKb4zAx",
        "outputId": "7219f90a-c4be-49c6-8e3b-79d6b7f2bc29"
      },
      "execution_count": 3,
      "outputs": [
        {
          "output_type": "execute_result",
          "data": {
            "text/plain": [
              "<torch._C.Generator at 0x7f2f08ce8b10>"
            ]
          },
          "metadata": {},
          "execution_count": 3
        }
      ]
    },
    {
      "cell_type": "code",
      "execution_count": 41,
      "metadata": {
        "colab": {
          "base_uri": "https://localhost:8080/"
        },
        "id": "kK0OH9vXzP4T",
        "outputId": "60fb88f8-8409-462d-9a1f-79ee9fad91d4"
      },
      "outputs": [
        {
          "output_type": "stream",
          "name": "stdout",
          "text": [
            "torch.Size([3, 1]) torch.Size([3, 1])\n",
            "\n",
            "x_train: tensor([[1.],\n",
            "        [2.],\n",
            "        [3.]])\n",
            "y_train: tensor([[2.],\n",
            "        [4.],\n",
            "        [6.]])\n"
          ]
        }
      ],
      "source": [
        "x_train = torch.FloatTensor([[1],[2],[3]])\n",
        "y_train = torch.FloatTensor([[2],[4],[6]])\n",
        "print(x_train.shape, y_train.shape)\n",
        "print()\n",
        "print(\"x_train:\",x_train)\n",
        "print(\"y_train:\",y_train)"
      ]
    },
    {
      "cell_type": "code",
      "source": [
        "# weight, bias default \n",
        "# requires_grad = define as a variable, trained argument \n",
        "\n",
        "W = torch.zeros(1, requires_grad = True)\n",
        "print(\"w default:\",W)\n",
        "\n",
        "print()\n",
        "\n",
        "b = torch.zeros(1, requires_grad=True)\n",
        "print(\"b default:\",b)"
      ],
      "metadata": {
        "colab": {
          "base_uri": "https://localhost:8080/"
        },
        "id": "OfJT0nfn0bMc",
        "outputId": "d3550e5f-f505-4fbf-848f-1f716eece7a4"
      },
      "execution_count": 42,
      "outputs": [
        {
          "output_type": "stream",
          "name": "stdout",
          "text": [
            "w default: tensor([0.], requires_grad=True)\n",
            "\n",
            "b default: tensor([0.], requires_grad=True)\n"
          ]
        }
      ]
    },
    {
      "cell_type": "code",
      "source": [
        "# hypothesis \n",
        "\n",
        "# y = Wx + b fits the data  H(x)\n",
        "\n",
        "h = x_train * W + b \n",
        "print(\"hypothesis:\",h)"
      ],
      "metadata": {
        "colab": {
          "base_uri": "https://localhost:8080/"
        },
        "id": "RgR0VA-P0bOR",
        "outputId": "633241db-36d9-48c5-cee0-f78dd40173b4"
      },
      "execution_count": 43,
      "outputs": [
        {
          "output_type": "stream",
          "name": "stdout",
          "text": [
            "hypothesis: tensor([[0.],\n",
            "        [0.],\n",
            "        [0.]], grad_fn=<AddBackward0>)\n"
          ]
        }
      ]
    },
    {
      "cell_type": "code",
      "source": [
        "# define cost function \n",
        "\n",
        "cost = torch.mean((h - y_train) ** 2) \n",
        "print(cost)"
      ],
      "metadata": {
        "colab": {
          "base_uri": "https://localhost:8080/"
        },
        "id": "FgnmQzlc0bKX",
        "outputId": "9075b780-1efe-41ee-fb2c-4f2f0c46e1ff"
      },
      "execution_count": 44,
      "outputs": [
        {
          "output_type": "stream",
          "name": "stdout",
          "text": [
            "tensor(18.6667, grad_fn=<MeanBackward0>)\n"
          ]
        }
      ]
    },
    {
      "cell_type": "code",
      "source": [
        "# gradient descent\n",
        "\n",
        "# using SGD, learning rate = 0.01 \n",
        "optimizer = torch.optim.SGD([W,b], lr=0.01)\n",
        "\n",
        "# default grad \n",
        "optimizer.zero_grad()\n",
        "\n",
        "# calculate grad \n",
        "cost.backward()\n",
        "\n",
        "# update Weight and bias \n",
        "optimizer.step()"
      ],
      "metadata": {
        "id": "97IRELLa0bIE"
      },
      "execution_count": 45,
      "outputs": []
    },
    {
      "cell_type": "code",
      "source": [
        "W, b "
      ],
      "metadata": {
        "colab": {
          "base_uri": "https://localhost:8080/"
        },
        "id": "pcpGcIjo0bFa",
        "outputId": "292fc15d-7722-433c-8027-d62faa422b06"
      },
      "execution_count": 46,
      "outputs": [
        {
          "output_type": "execute_result",
          "data": {
            "text/plain": [
              "(tensor([0.1867], requires_grad=True), tensor([0.0800], requires_grad=True))"
            ]
          },
          "metadata": {},
          "execution_count": 46
        }
      ]
    },
    {
      "cell_type": "code",
      "source": [
        "# per epoch \n",
        "\n",
        "epochs = 1000 \n",
        "\n",
        "for epoch in range(epochs + 1):\n",
        "  h = x_train * W + b \n",
        "  cost = torch.mean((h-y_train)**2)\n",
        "\n",
        "  optimizer.zero_grad()\n",
        "  cost.backward()\n",
        "  optimizer.step()\n",
        "\n",
        "  # logging per 10 step \n",
        "  if epoch % 100 == 0:\n",
        "    print('Epoch: {:4d}/{}, W: {:.3f}, b:{:.3f}, cost: {:.6f}'.format(\n",
        "        epoch,epochs,W.item(),b.item(),cost.item())) "
      ],
      "metadata": {
        "colab": {
          "base_uri": "https://localhost:8080/"
        },
        "id": "FtxyNvND0bDE",
        "outputId": "7c964fce-0347-474f-f8e6-6781805cac9a"
      },
      "execution_count": 47,
      "outputs": [
        {
          "output_type": "stream",
          "name": "stdout",
          "text": [
            "Epoch    0/1000, W: 0.353, b:0.151, cost: 14.770963\n",
            "Epoch  100/1000, W: 1.746, b:0.577, cost: 0.047939\n",
            "Epoch  200/1000, W: 1.801, b:0.453, cost: 0.029624\n",
            "Epoch  300/1000, W: 1.843, b:0.356, cost: 0.018306\n",
            "Epoch  400/1000, W: 1.877, b:0.280, cost: 0.011312\n",
            "Epoch  500/1000, W: 1.903, b:0.220, cost: 0.006990\n",
            "Epoch  600/1000, W: 1.924, b:0.173, cost: 0.004319\n",
            "Epoch  700/1000, W: 1.940, b:0.136, cost: 0.002669\n",
            "Epoch  800/1000, W: 1.953, b:0.107, cost: 0.001649\n",
            "Epoch  900/1000, W: 1.963, b:0.084, cost: 0.001019\n",
            "Epoch 1000/1000, W: 1.971, b:0.066, cost: 0.000630\n"
          ]
        }
      ]
    },
    {
      "cell_type": "markdown",
      "source": [
        "### 다중연산 "
      ],
      "metadata": {
        "id": "8UOn-WlYR2vQ"
      }
    },
    {
      "cell_type": "code",
      "source": [
        "# compute with matrix\n",
        "\n",
        "x_train  =  torch.FloatTensor([[73,  80,  75], \n",
        "                               [93,  88,  93], \n",
        "                               [89,  91,  80], \n",
        "                               [96,  98,  100],   \n",
        "                               [73,  66,  70]])  \n",
        "y_train  =  torch.FloatTensor([[152],  [185],  [180],  [196],  [142]])"
      ],
      "metadata": {
        "id": "DN1-RO9z0bAu"
      },
      "execution_count": 21,
      "outputs": []
    },
    {
      "cell_type": "code",
      "source": [
        "x_train.shape, y_train.shape"
      ],
      "metadata": {
        "colab": {
          "base_uri": "https://localhost:8080/"
        },
        "id": "dlj0a0I50a9o",
        "outputId": "5d864902-5dbe-4bf1-9af8-74dc9fe01f92"
      },
      "execution_count": 5,
      "outputs": [
        {
          "output_type": "execute_result",
          "data": {
            "text/plain": [
              "(torch.Size([5, 3]), torch.Size([5, 1]))"
            ]
          },
          "metadata": {},
          "execution_count": 5
        }
      ]
    },
    {
      "cell_type": "code",
      "source": [
        "# weight and bias - 3 weight, bias default \n",
        "\n",
        "W = torch.zeros((3,1), requires_grad = True)\n",
        "b = torch.zeros(1, requires_grad = True)\n",
        "W.shape, b.shape"
      ],
      "metadata": {
        "colab": {
          "base_uri": "https://localhost:8080/"
        },
        "id": "xGye2pbwRhqJ",
        "outputId": "a074fe27-7b8e-4318-95e7-48dd9e48c4c1"
      },
      "execution_count": 22,
      "outputs": [
        {
          "output_type": "execute_result",
          "data": {
            "text/plain": [
              "(torch.Size([3, 1]), torch.Size([1]))"
            ]
          },
          "metadata": {},
          "execution_count": 22
        }
      ]
    },
    {
      "cell_type": "code",
      "source": [
        "# matrix multiplication으로 한번에 h 정의 \n",
        "h = x_train.matmul(W) + b "
      ],
      "metadata": {
        "id": "ME8gUHZXR8XN"
      },
      "execution_count": 23,
      "outputs": []
    },
    {
      "cell_type": "code",
      "source": [
        "h.squeeze().detach()"
      ],
      "metadata": {
        "colab": {
          "base_uri": "https://localhost:8080/"
        },
        "id": "M20t6qn2Te_H",
        "outputId": "07554de5-b36f-4c5f-e7a0-19806f62b90e"
      },
      "execution_count": 19,
      "outputs": [
        {
          "output_type": "execute_result",
          "data": {
            "text/plain": [
              "tensor([0., 0., 0., 0., 0.])"
            ]
          },
          "metadata": {},
          "execution_count": 19
        }
      ]
    },
    {
      "cell_type": "code",
      "source": [
        "# optimizer\n",
        "\n",
        "optimizer = optim.SGD([W,b], lr=1e-5)\n",
        "\n",
        "# loop \n",
        "\n",
        "epochs = 20 \n",
        "\n",
        "for epoch in range(epochs+1):\n",
        "\n",
        "  h = x_train.matmul(W) + b\n",
        "  \n",
        "  cost = torch.mean((h-y_train)**2)\n",
        "\n",
        "  optimizer.zero_grad()\n",
        "  cost.backward()\n",
        "  optimizer.step()\n",
        "\n",
        "  # .detach() - stop grad propagation \n",
        "  print(\"Epoch: {:4d}/{} h: {}, cost: {:.6f}\".format(\n",
        "      epoch, epochs, h.squeeze().detach(), cost.item()\n",
        "  ))"
      ],
      "metadata": {
        "colab": {
          "base_uri": "https://localhost:8080/"
        },
        "id": "LlMnzV6wR8U7",
        "outputId": "b825e326-eb96-499e-94ad-5d047e32a88c"
      },
      "execution_count": 26,
      "outputs": [
        {
          "output_type": "stream",
          "name": "stdout",
          "text": [
            "Epoch:    0/20 h: tensor([66.7178, 80.1701, 76.1025, 86.0194, 61.1565]), cost: 9537.694336\n",
            "Epoch:    1/20 h: tensor([104.5421, 125.6208, 119.2478, 134.7862,  95.8280]), cost: 3069.590088\n",
            "Epoch:    2/20 h: tensor([125.9858, 151.3882, 143.7087, 162.4333, 115.4844]), cost: 990.670288\n",
            "Epoch:    3/20 h: tensor([138.1429, 165.9963, 157.5768, 178.1071, 126.6283]), cost: 322.481873\n",
            "Epoch:    4/20 h: tensor([145.0350, 174.2780, 165.4395, 186.9928, 132.9461]), cost: 107.717064\n",
            "Epoch:    5/20 h: tensor([148.9423, 178.9730, 169.8976, 192.0301, 136.5279]), cost: 38.687496\n",
            "Epoch:    6/20 h: tensor([151.1574, 181.6346, 172.4254, 194.8856, 138.5585]), cost: 16.499043\n",
            "Epoch:    7/20 h: tensor([152.4131, 183.1435, 173.8590, 196.5043, 139.7097]), cost: 9.365656\n",
            "Epoch:    8/20 h: tensor([153.1250, 183.9988, 174.6723, 197.4217, 140.3625]), cost: 7.071114\n",
            "Epoch:    9/20 h: tensor([153.5285, 184.4835, 175.1338, 197.9415, 140.7325]), cost: 6.331847\n",
            "Epoch:   10/20 h: tensor([153.7572, 184.7582, 175.3958, 198.2360, 140.9424]), cost: 6.092532\n",
            "Epoch:   11/20 h: tensor([153.8868, 184.9138, 175.5449, 198.4026, 141.0613]), cost: 6.013817\n",
            "Epoch:   12/20 h: tensor([153.9602, 185.0019, 175.6299, 198.4969, 141.1288]), cost: 5.986785\n",
            "Epoch:   13/20 h: tensor([154.0017, 185.0517, 175.6785, 198.5500, 141.1671]), cost: 5.976325\n",
            "Epoch:   14/20 h: tensor([154.0252, 185.0798, 175.7065, 198.5800, 141.1888]), cost: 5.971208\n",
            "Epoch:   15/20 h: tensor([154.0385, 185.0956, 175.7229, 198.5966, 141.2012]), cost: 5.967835\n",
            "Epoch:   16/20 h: tensor([154.0459, 185.1045, 175.7326, 198.6059, 141.2082]), cost: 5.964969\n",
            "Epoch:   17/20 h: tensor([154.0501, 185.1094, 175.7386, 198.6108, 141.2122]), cost: 5.962291\n",
            "Epoch:   18/20 h: tensor([154.0524, 185.1120, 175.7424, 198.6134, 141.2145]), cost: 5.959664\n",
            "Epoch:   19/20 h: tensor([154.0536, 185.1134, 175.7451, 198.6145, 141.2158]), cost: 5.957089\n",
            "Epoch:   20/20 h: tensor([154.0543, 185.1140, 175.7470, 198.6150, 141.2166]), cost: 5.954494\n"
          ]
        }
      ]
    },
    {
      "cell_type": "markdown",
      "source": [
        "## nn.Module 활용 "
      ],
      "metadata": {
        "id": "AKmBZXDuUdPU"
      }
    },
    {
      "cell_type": "code",
      "source": [
        "import torch.nn as nn\n",
        "import torch.nn.functional as F\n",
        "\n",
        "torch.manual_seed(0)"
      ],
      "metadata": {
        "colab": {
          "base_uri": "https://localhost:8080/"
        },
        "id": "AB31G39DR8Su",
        "outputId": "b1626a84-41b9-482f-920a-34135d6780f3"
      },
      "execution_count": 29,
      "outputs": [
        {
          "output_type": "execute_result",
          "data": {
            "text/plain": [
              "<torch._C.Generator at 0x7f2f08ce8b10>"
            ]
          },
          "metadata": {},
          "execution_count": 29
        }
      ]
    },
    {
      "cell_type": "code",
      "source": [
        "x_train = torch.FloatTensor([[1], [2], [3]])\n",
        "y_train = torch.FloatTensor([[2], [4], [6]])"
      ],
      "metadata": {
        "id": "W9SA6lDjR10g"
      },
      "execution_count": 30,
      "outputs": []
    },
    {
      "cell_type": "code",
      "source": [
        "model = nn.Linear(1,1) # (output_dim, input_dim)\n",
        "model"
      ],
      "metadata": {
        "colab": {
          "base_uri": "https://localhost:8080/"
        },
        "id": "EMUHlhejR1yk",
        "outputId": "a5cd4f9e-d61c-4344-a1ef-1fc53f669512"
      },
      "execution_count": 37,
      "outputs": [
        {
          "output_type": "execute_result",
          "data": {
            "text/plain": [
              "Linear(in_features=1, out_features=1, bias=True)"
            ]
          },
          "metadata": {},
          "execution_count": 37
        }
      ]
    },
    {
      "cell_type": "code",
      "source": [
        "# check parameters\n",
        "# W & b \n",
        "# print(list(model.parameters()))\n",
        "\n",
        "# for param in model.parameters():\n",
        "#   print(param.data.squeeze().detach())\n",
        "\n",
        "list(i.detach() for i in model.parameters())[0]\n"
      ],
      "metadata": {
        "colab": {
          "base_uri": "https://localhost:8080/"
        },
        "id": "HUD06OEDR1wT",
        "outputId": "4747343e-c5df-49e9-f91e-259d15554f3d"
      },
      "execution_count": 112,
      "outputs": [
        {
          "output_type": "execute_result",
          "data": {
            "text/plain": [
              "tensor([[1.9996]])"
            ]
          },
          "metadata": {},
          "execution_count": 112
        }
      ]
    },
    {
      "cell_type": "code",
      "source": [
        "# optimizer\n",
        "\n",
        "optimizer = torch.optim.SGD(model.parameters(), lr=0.01) \n",
        "\n",
        "# training loop \n",
        "\n",
        "epochs = 1000\n",
        "for epoch in range(epochs):\n",
        "\n",
        "  prediction = model(x_train)\n",
        "  cost = F.mse_loss(prediction, y_train) \n",
        "\n",
        "  optimizer.zero_grad()\n",
        "  cost.backward()\n",
        "  optimizer.step()\n",
        "\n",
        "  if epoch % 100 == 0:\n",
        "    print(\"Epoch:{:4d}/{}, W&b:{}, cost: {:.6f}\".format(\n",
        "        epoch, epochs, list(i.detach() for i in model.parameters()) ,cost.item()\n",
        "    ))"
      ],
      "metadata": {
        "colab": {
          "base_uri": "https://localhost:8080/"
        },
        "id": "DkYEr9glR1tp",
        "outputId": "a12ae13b-7b35-4d26-e8e3-a7b04576101b"
      },
      "execution_count": 123,
      "outputs": [
        {
          "output_type": "stream",
          "name": "stdout",
          "text": [
            "Epoch:   0/1000, W&b:[tensor([[288.7074, 288.5964, 291.3774]]), tensor([2.9926])], cost: 28581.875000\n",
            "Epoch: 100/1000, W&b:[tensor([[nan, nan, nan]]), tensor([nan])], cost: nan\n",
            "Epoch: 200/1000, W&b:[tensor([[nan, nan, nan]]), tensor([nan])], cost: nan\n",
            "Epoch: 300/1000, W&b:[tensor([[nan, nan, nan]]), tensor([nan])], cost: nan\n",
            "Epoch: 400/1000, W&b:[tensor([[nan, nan, nan]]), tensor([nan])], cost: nan\n",
            "Epoch: 500/1000, W&b:[tensor([[nan, nan, nan]]), tensor([nan])], cost: nan\n",
            "Epoch: 600/1000, W&b:[tensor([[nan, nan, nan]]), tensor([nan])], cost: nan\n",
            "Epoch: 700/1000, W&b:[tensor([[nan, nan, nan]]), tensor([nan])], cost: nan\n",
            "Epoch: 800/1000, W&b:[tensor([[nan, nan, nan]]), tensor([nan])], cost: nan\n",
            "Epoch: 900/1000, W&b:[tensor([[nan, nan, nan]]), tensor([nan])], cost: nan\n"
          ]
        }
      ]
    },
    {
      "cell_type": "code",
      "source": [
        "new_var = torch.FloatTensor([[4]])\n",
        "pred_y = model(new_var) \n",
        "\n",
        "print(pred_y)"
      ],
      "metadata": {
        "colab": {
          "base_uri": "https://localhost:8080/"
        },
        "id": "kVpmu5SXR1rR",
        "outputId": "aec577a9-d825-45fb-8d1a-9c8740e24aaf"
      },
      "execution_count": 40,
      "outputs": [
        {
          "output_type": "stream",
          "name": "stdout",
          "text": [
            "tensor([[7.9994]], grad_fn=<AddmmBackward0>)\n"
          ]
        }
      ]
    },
    {
      "cell_type": "markdown",
      "source": [
        "### with matrix multiplication"
      ],
      "metadata": {
        "id": "TqCEqwbchFJ-"
      }
    },
    {
      "cell_type": "code",
      "source": [
        "# with matrix multiplication \n",
        "\n",
        "# data\n",
        "x_train = torch.FloatTensor([[73, 80, 75],\n",
        "                             [93, 88, 93],\n",
        "                             [89, 91, 90],\n",
        "                             [96, 98, 100],\n",
        "                             [73, 66, 70]])\n",
        "y_train = torch.FloatTensor([[152], [185], [180], [196], [142]])\n",
        "\n",
        "\n",
        "# model\n",
        "model = nn.Linear(3,1) # 3features, 1output \n",
        "\n",
        "#check parameters\n",
        "print(\"params:\",list(param.detach() for param in model.parameters()))\n",
        "\n",
        "# opitimizer \n",
        "optimizer = torch.optim.SGD(model.parameters(), lr=1e-5)\n",
        "\n",
        "# training loop \n",
        "epochs = 1000\n",
        "\n",
        "for epoch in range(epochs+1):\n",
        "\n",
        "  prediction = model(x_train)\n",
        "\n",
        "  cost = F.mse_loss(prediction, y_train)\n",
        "\n",
        "  optimizer.zero_grad()\n",
        "  cost.backward()\n",
        "  optimizer.step()\n",
        "\n",
        "  if epoch % 100 == 0:\n",
        "    print(\"Epoch: {:4d}/{}, W&b: {}, cost: {}\".format(\n",
        "        epoch, epochs, list(params.detach() for params in model.parameters()), cost.item()\n",
        "    ))\n",
        "\n"
      ],
      "metadata": {
        "colab": {
          "base_uri": "https://localhost:8080/"
        },
        "id": "Hsvif6uXaQjF",
        "outputId": "6532ac47-f797-4f8c-8c26-ce7f83ea0b28"
      },
      "execution_count": 126,
      "outputs": [
        {
          "output_type": "stream",
          "name": "stdout",
          "text": [
            "params: [tensor([[0.4963, 0.2576, 0.2798]]), tensor([0.0304])]\n",
            "Epoch:    0/1000, W&b: [tensor([[0.6392, 0.4003, 0.4244]]), tensor([0.0320])], cost: 7008.5478515625\n",
            "Epoch:  100/1000, W&b: [tensor([[0.8239, 0.5788, 0.6084]]), tensor([0.0342])], cost: 0.5722898244857788\n",
            "Epoch:  200/1000, W&b: [tensor([[0.8268, 0.5757, 0.6086]]), tensor([0.0344])], cost: 0.5544425249099731\n",
            "Epoch:  300/1000, W&b: [tensor([[0.8296, 0.5727, 0.6088]]), tensor([0.0345])], cost: 0.5375221371650696\n",
            "Epoch:  400/1000, W&b: [tensor([[0.8324, 0.5698, 0.6089]]), tensor([0.0346])], cost: 0.5214717984199524\n",
            "Epoch:  500/1000, W&b: [tensor([[0.8351, 0.5670, 0.6090]]), tensor([0.0347])], cost: 0.5062476992607117\n",
            "Epoch:  600/1000, W&b: [tensor([[0.8377, 0.5642, 0.6091]]), tensor([0.0348])], cost: 0.4918190836906433\n",
            "Epoch:  700/1000, W&b: [tensor([[0.8403, 0.5616, 0.6092]]), tensor([0.0349])], cost: 0.47812825441360474\n",
            "Epoch:  800/1000, W&b: [tensor([[0.8428, 0.5590, 0.6093]]), tensor([0.0350])], cost: 0.4651438295841217\n",
            "Epoch:  900/1000, W&b: [tensor([[0.8452, 0.5565, 0.6094]]), tensor([0.0351])], cost: 0.4528283476829529\n",
            "Epoch: 1000/1000, W&b: [tensor([[0.8476, 0.5540, 0.6094]]), tensor([0.0352])], cost: 0.44113969802856445\n"
          ]
        }
      ]
    }
  ]
}