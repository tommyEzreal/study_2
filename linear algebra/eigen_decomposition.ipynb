{
  "nbformat": 4,
  "nbformat_minor": 0,
  "metadata": {
    "colab": {
      "provenance": [],
      "authorship_tag": "ABX9TyMnxdKECcPO/KRGq3wU9jkT",
      "include_colab_link": true
    },
    "kernelspec": {
      "name": "python3",
      "display_name": "Python 3"
    },
    "language_info": {
      "name": "python"
    }
  },
  "cells": [
    {
      "cell_type": "markdown",
      "metadata": {
        "id": "view-in-github",
        "colab_type": "text"
      },
      "source": [
        "<a href=\"https://colab.research.google.com/github/tommyEzreal/study_2/blob/main/linear%20algebra/eigen_decomposition.ipynb\" target=\"_parent\"><img src=\"https://colab.research.google.com/assets/colab-badge.svg\" alt=\"Open In Colab\"/></a>"
      ]
    },
    {
      "cell_type": "code",
      "execution_count": null,
      "metadata": {
        "id": "Skl0Z1SJc3YG"
      },
      "outputs": [],
      "source": [
        "import numpy as np\n",
        "import numpy.linalg as la\n",
        "from numpy.linalg import eig\n",
        "from numpy.linalg import inv\n",
        "\n",
        "import time"
      ]
    },
    {
      "cell_type": "code",
      "source": [
        "A = np.array([[4,0,-2],\n",
        "              [2,5,4],\n",
        "              [0,0,5]])\n",
        "A"
      ],
      "metadata": {
        "colab": {
          "base_uri": "https://localhost:8080/"
        },
        "id": "xGOMe3YJdlD1",
        "outputId": "a160a32c-eac9-441a-c801-d478c69989c2"
      },
      "execution_count": null,
      "outputs": [
        {
          "output_type": "execute_result",
          "data": {
            "text/plain": [
              "array([[ 4,  0, -2],\n",
              "       [ 2,  5,  4],\n",
              "       [ 0,  0,  5]])"
            ]
          },
          "metadata": {},
          "execution_count": 2
        }
      ]
    },
    {
      "cell_type": "code",
      "source": [
        "eig_val, eig_vec = eig(A)\n",
        "print(eig_val)\n",
        "\n",
        "print(eig_vec)"
      ],
      "metadata": {
        "colab": {
          "base_uri": "https://localhost:8080/"
        },
        "id": "97GvtJsAdlBu",
        "outputId": "7490f015-e7f4-43d8-bbe4-3892a7696ebf"
      },
      "execution_count": null,
      "outputs": [
        {
          "output_type": "stream",
          "name": "stdout",
          "text": [
            "[5. 4. 5.]\n",
            "[[ 0.          0.4472136  -0.89442719]\n",
            " [ 1.         -0.89442719  0.        ]\n",
            " [ 0.          0.          0.4472136 ]]\n"
          ]
        }
      ]
    },
    {
      "cell_type": "code",
      "source": [
        "D = np.diag(eig_val)\n",
        "D"
      ],
      "metadata": {
        "colab": {
          "base_uri": "https://localhost:8080/"
        },
        "id": "CnhNv4oqdk_z",
        "outputId": "b02bfcfc-d0d5-4bd5-aa5f-e513580eee36"
      },
      "execution_count": null,
      "outputs": [
        {
          "output_type": "execute_result",
          "data": {
            "text/plain": [
              "array([[5., 0., 0.],\n",
              "       [0., 4., 0.],\n",
              "       [0., 0., 5.]])"
            ]
          },
          "metadata": {},
          "execution_count": 7
        }
      ]
    },
    {
      "cell_type": "code",
      "source": [
        "V = eig_vec\n",
        "V"
      ],
      "metadata": {
        "colab": {
          "base_uri": "https://localhost:8080/"
        },
        "id": "gPxTueNhdk9j",
        "outputId": "12c9b358-c774-4859-bb2f-429a31e53dc4"
      },
      "execution_count": null,
      "outputs": [
        {
          "output_type": "execute_result",
          "data": {
            "text/plain": [
              "array([[ 0.        ,  0.4472136 , -0.89442719],\n",
              "       [ 1.        , -0.89442719,  0.        ],\n",
              "       [ 0.        ,  0.        ,  0.4472136 ]])"
            ]
          },
          "metadata": {},
          "execution_count": 8
        }
      ]
    },
    {
      "cell_type": "code",
      "source": [
        "# A = V*D*V^-1\n",
        "V.dot(D).dot(la.inv(V))"
      ],
      "metadata": {
        "colab": {
          "base_uri": "https://localhost:8080/"
        },
        "id": "Gk0H7ZnddkqW",
        "outputId": "e372968a-ebdf-43fc-b935-bf1d90fe911b"
      },
      "execution_count": null,
      "outputs": [
        {
          "output_type": "execute_result",
          "data": {
            "text/plain": [
              "array([[ 4.,  0., -2.],\n",
              "       [ 2.,  5.,  4.],\n",
              "       [ 0.,  0.,  5.]])"
            ]
          },
          "metadata": {},
          "execution_count": 9
        }
      ]
    },
    {
      "cell_type": "code",
      "source": [
        "la.matrix_power(A,5)"
      ],
      "metadata": {
        "colab": {
          "base_uri": "https://localhost:8080/"
        },
        "id": "ct2Md1GcdkoP",
        "outputId": "6667bdf7-7909-4ac9-a3ad-5705a6b0173a"
      },
      "execution_count": null,
      "outputs": [
        {
          "output_type": "execute_result",
          "data": {
            "text/plain": [
              "array([[ 1024,     0, -4202],\n",
              "       [ 4202,  3125,  8404],\n",
              "       [    0,     0,  3125]])"
            ]
          },
          "metadata": {},
          "execution_count": 10
        }
      ]
    },
    {
      "cell_type": "code",
      "source": [
        "D_power_5 = np.diag(eig_val**5)\n",
        "D_power_5"
      ],
      "metadata": {
        "colab": {
          "base_uri": "https://localhost:8080/"
        },
        "id": "WR3zuc7Hdkk5",
        "outputId": "88c0effa-7460-44a8-fb5e-b51f081b19f0"
      },
      "execution_count": null,
      "outputs": [
        {
          "output_type": "execute_result",
          "data": {
            "text/plain": [
              "array([[3125.,    0.,    0.],\n",
              "       [   0., 1024.,    0.],\n",
              "       [   0.,    0., 3125.]])"
            ]
          },
          "metadata": {},
          "execution_count": 11
        }
      ]
    },
    {
      "cell_type": "code",
      "source": [
        "V.dot(D_power_5).dot(la.inv(V))"
      ],
      "metadata": {
        "colab": {
          "base_uri": "https://localhost:8080/"
        },
        "id": "HPich2cCdkhZ",
        "outputId": "03fdc0ee-856d-44ce-ee7f-06f4f61e5ee8"
      },
      "execution_count": null,
      "outputs": [
        {
          "output_type": "execute_result",
          "data": {
            "text/plain": [
              "array([[ 1024.,     0., -4202.],\n",
              "       [ 4202.,  3125.,  8404.],\n",
              "       [    0.,     0.,  3125.]])"
            ]
          },
          "metadata": {},
          "execution_count": 12
        }
      ]
    },
    {
      "cell_type": "code",
      "source": [
        "# computing advantage \n",
        "\n",
        "A = np.array([[4., 4, 2, 3, -2],\n",
        "              [0, 1, -2, -2, 2],\n",
        "              [6, 12, 11, 2, -4],\n",
        "              [9, 20, 10, 10, -6],\n",
        "              [15, 28, 14, 5, -3]])\n",
        "# eigen 이 존재하도록 임의 변환 \n",
        "A = A+ A.T \n",
        "\n",
        "A = A / np.expand_dims(np.sum(A,1),axis=1)\n",
        "A"
      ],
      "metadata": {
        "id": "0QOLSGZFdkfd",
        "colab": {
          "base_uri": "https://localhost:8080/"
        },
        "outputId": "06f0b049-f937-4645-e143-2fe63a9f4530"
      },
      "execution_count": 13,
      "outputs": [
        {
          "output_type": "execute_result",
          "data": {
            "text/plain": [
              "array([[ 0.17777778,  0.08888889,  0.17777778,  0.26666667,  0.28888889],\n",
              "       [ 0.0625    ,  0.03125   ,  0.15625   ,  0.28125   ,  0.46875   ],\n",
              "       [ 0.12903226,  0.16129032,  0.35483871,  0.19354839,  0.16129032],\n",
              "       [ 0.19672131,  0.29508197,  0.19672131,  0.32786885, -0.01639344],\n",
              "       [ 0.2826087 ,  0.65217391,  0.2173913 , -0.02173913, -0.13043478]])"
            ]
          },
          "metadata": {},
          "execution_count": 13
        }
      ]
    },
    {
      "cell_type": "code",
      "source": [
        "# initialize parameters\n",
        "x = np.random.rand(5)\n",
        "n_times = 1000000\n",
        "\n",
        "y = x\n",
        "start_time = time.time()\n",
        "\n",
        "# 그냥 쌩 계산 \n",
        "\n",
        "for i in range(0,n_times):\n",
        "  y = A.dot(y)\n",
        "end_time = time.time()\n",
        "elapse_time = end_time - start_time \n",
        "\n",
        "print(y)\n",
        "print(elapse_time)"
      ],
      "metadata": {
        "colab": {
          "base_uri": "https://localhost:8080/"
        },
        "id": "4n_OJZ9kfbxj",
        "outputId": "ae7101ea-79f3-4fcc-e852-08738a7cb637"
      },
      "execution_count": 14,
      "outputs": [
        {
          "output_type": "stream",
          "name": "stdout",
          "text": [
            "[0.61702081 0.61702081 0.61702081 0.61702081 0.61702081]\n",
            "0.7316367626190186\n"
          ]
        }
      ]
    },
    {
      "cell_type": "code",
      "source": [
        "# use eigen decomp\n",
        "\n",
        "eig_val, eig_vec = eig(A)\n",
        "D = np.diag(eig_val)\n",
        "V = eig_vec\n",
        "\n",
        "start_time = time.time()\n",
        "y = V.dot((eig_val**n_times)*la.solve(V,x)) # solve(V,x) : Va = x -> find a \n",
        "end_time = time.time()\n",
        "elapse_time = end_time - start_time\n",
        "\n",
        "print(y) \n",
        "print(elapse_time)"
      ],
      "metadata": {
        "id": "6eAQT5JDdkc_",
        "colab": {
          "base_uri": "https://localhost:8080/"
        },
        "outputId": "717b3e65-add1-4dcf-e366-d166724dc80f"
      },
      "execution_count": 16,
      "outputs": [
        {
          "output_type": "stream",
          "name": "stdout",
          "text": [
            "[0.61702081 0.61702081 0.61702081 0.61702081 0.61702081]\n",
            "0.0017309188842773438\n"
          ]
        }
      ]
    },
    {
      "cell_type": "code",
      "source": [],
      "metadata": {
        "id": "SVHbyJEodkYE"
      },
      "execution_count": null,
      "outputs": []
    },
    {
      "cell_type": "code",
      "source": [],
      "metadata": {
        "id": "mNAkG8CgdkVy"
      },
      "execution_count": null,
      "outputs": []
    },
    {
      "cell_type": "code",
      "source": [],
      "metadata": {
        "id": "bXsAVFKidkTL"
      },
      "execution_count": null,
      "outputs": []
    }
  ]
}