{
  "nbformat": 4,
  "nbformat_minor": 0,
  "metadata": {
    "colab": {
      "provenance": [],
      "authorship_tag": "ABX9TyP5rb0qnTyow8hywLNNfaW8",
      "include_colab_link": true
    },
    "kernelspec": {
      "name": "python3",
      "display_name": "Python 3"
    },
    "language_info": {
      "name": "python"
    }
  },
  "cells": [
    {
      "cell_type": "markdown",
      "metadata": {
        "id": "view-in-github",
        "colab_type": "text"
      },
      "source": [
        "<a href=\"https://colab.research.google.com/github/tommyEzreal/study_2/blob/main/linear%20algebra/least_squares.ipynb\" target=\"_parent\"><img src=\"https://colab.research.google.com/assets/colab-badge.svg\" alt=\"Open In Colab\"/></a>"
      ]
    },
    {
      "cell_type": "code",
      "execution_count": 1,
      "metadata": {
        "id": "fXGx6-FKn5KC"
      },
      "outputs": [],
      "source": [
        "import numpy as np\n",
        "\n",
        "# dummy matrix A \n",
        "A = np.array([ [11,12,13,14],\n",
        "               [15,16,17,18] ])\n"
      ]
    },
    {
      "cell_type": "code",
      "source": [
        "# least squares y = ax + b\n",
        "# b - bias term \n",
        "# input data\n",
        "\n",
        "x = np.array([0,1,2,3])\n",
        "y = np.array([-1,0.2,0.9,2.1]) "
      ],
      "metadata": {
        "id": "zF0UfE1bo4GY"
      },
      "execution_count": 6,
      "outputs": []
    },
    {
      "cell_type": "code",
      "source": [
        "# concatenate a constant term \n",
        "A = np.vstack([x, np.ones(len(x))]).T\n",
        "A"
      ],
      "metadata": {
        "colab": {
          "base_uri": "https://localhost:8080/"
        },
        "id": "VDbxqfk7o4ED",
        "outputId": "8d3d343b-01be-435a-bee0-66090694670e"
      },
      "execution_count": 7,
      "outputs": [
        {
          "output_type": "execute_result",
          "data": {
            "text/plain": [
              "array([[0., 1.],\n",
              "       [1., 1.],\n",
              "       [2., 1.],\n",
              "       [3., 1.]])"
            ]
          },
          "metadata": {},
          "execution_count": 7
        }
      ]
    },
    {
      "cell_type": "code",
      "source": [
        "# as a normal eqaution \n",
        "# create matrix A' * A (A transpose A)\n",
        "\n",
        "At_A = A.T.dot(A)\n",
        "At_A"
      ],
      "metadata": {
        "colab": {
          "base_uri": "https://localhost:8080/"
        },
        "id": "g25Xf7eYo4BM",
        "outputId": "ca199102-182f-4412-86f8-fd3013f56cee"
      },
      "execution_count": 8,
      "outputs": [
        {
          "output_type": "execute_result",
          "data": {
            "text/plain": [
              "array([[14.,  6.],\n",
              "       [ 6.,  4.]])"
            ]
          },
          "metadata": {},
          "execution_count": 8
        }
      ]
    },
    {
      "cell_type": "code",
      "source": [
        "# create a vector A transpose y \n",
        "\n",
        "At_y = A.T.dot(y)\n",
        "At_y"
      ],
      "metadata": {
        "colab": {
          "base_uri": "https://localhost:8080/"
        },
        "id": "ePOm6upWo3-p",
        "outputId": "0edc1d2e-d1e4-4432-bae8-b7296ebf305c"
      },
      "execution_count": 9,
      "outputs": [
        {
          "output_type": "execute_result",
          "data": {
            "text/plain": [
              "array([8.3, 2.2])"
            ]
          },
          "metadata": {},
          "execution_count": 9
        }
      ]
    },
    {
      "cell_type": "code",
      "source": [
        " # solve for x \n",
        " from numpy.linalg import solve\n",
        " c = solve(At_A, At_y)\n",
        " c # a, b "
      ],
      "metadata": {
        "colab": {
          "base_uri": "https://localhost:8080/"
        },
        "id": "BPPObQPTo38Q",
        "outputId": "721a31d1-8126-4a04-fc71-15d4f86b7291"
      },
      "execution_count": 10,
      "outputs": [
        {
          "output_type": "execute_result",
          "data": {
            "text/plain": [
              "array([ 1.  , -0.95])"
            ]
          },
          "metadata": {},
          "execution_count": 10
        }
      ]
    },
    {
      "cell_type": "code",
      "source": [
        "# fitted value \n",
        "y_fitted = A.dot(c)\n",
        "y_fitted"
      ],
      "metadata": {
        "colab": {
          "base_uri": "https://localhost:8080/"
        },
        "id": "_-QKUYPOo35o",
        "outputId": "a22d89f8-fc41-46d6-e8ea-aa2011795978"
      },
      "execution_count": 11,
      "outputs": [
        {
          "output_type": "execute_result",
          "data": {
            "text/plain": [
              "array([-0.95,  0.05,  1.05,  2.05])"
            ]
          },
          "metadata": {},
          "execution_count": 11
        }
      ]
    },
    {
      "cell_type": "code",
      "source": [
        "# calculate least square \n",
        "\n",
        "import matplotlib.pyplot as plt \n",
        "\n",
        "plt.plot(x,y,'o', label = 'original data', markersize= 10 )\n",
        "plt.plot(x,y_fitted, 'r', label = 'fitted line')\n",
        "plt.legend()\n",
        "plt.show()"
      ],
      "metadata": {
        "colab": {
          "base_uri": "https://localhost:8080/",
          "height": 265
        },
        "id": "jOfWJ55yo32y",
        "outputId": "3e1ef538-66e0-46f0-e9b8-7cac878f4c28"
      },
      "execution_count": 13,
      "outputs": [
        {
          "output_type": "display_data",
          "data": {
            "text/plain": [
              "<Figure size 432x288 with 1 Axes>"
            ],
            "image/png": "[encoded data removed]"
          },
          "metadata": {
            "needs_background": "light"
          }
        }
      ]
    },
    {
      "cell_type": "code",
      "source": [
        "# compute error vector \n",
        "error = y - y_fitted\n",
        "error"
      ],
      "metadata": {
        "colab": {
          "base_uri": "https://localhost:8080/"
        },
        "id": "zS2WHuYco30M",
        "outputId": "2e7e6549-48e8-4435-cb32-538ee73ed12e"
      },
      "execution_count": 14,
      "outputs": [
        {
          "output_type": "execute_result",
          "data": {
            "text/plain": [
              "array([-0.05,  0.15, -0.15,  0.05])"
            ]
          },
          "metadata": {},
          "execution_count": 14
        }
      ]
    },
    {
      "cell_type": "code",
      "source": [
        "# calculate error \n",
        "np.sqrt(np.sum(error**2))"
      ],
      "metadata": {
        "colab": {
          "base_uri": "https://localhost:8080/"
        },
        "id": "t7Lc20zho3xl",
        "outputId": "a4f7ad40-a9bd-401e-c6c1-3cf5d40c6718"
      },
      "execution_count": 15,
      "outputs": [
        {
          "output_type": "execute_result",
          "data": {
            "text/plain": [
              "0.22360679774997902"
            ]
          },
          "metadata": {},
          "execution_count": 15
        }
      ]
    },
    {
      "cell_type": "code",
      "source": [
        "# calculate error using 'norm' function\n",
        "from numpy.linalg import norm\n",
        "norm(y-y_fitted)"
      ],
      "metadata": {
        "colab": {
          "base_uri": "https://localhost:8080/"
        },
        "id": "uSV4ibV_o3vE",
        "outputId": "907bba78-f5cc-4370-ba46-4e2684a76a7b"
      },
      "execution_count": 16,
      "outputs": [
        {
          "output_type": "execute_result",
          "data": {
            "text/plain": [
              "0.22360679774997902"
            ]
          },
          "metadata": {},
          "execution_count": 16
        }
      ]
    },
    {
      "cell_type": "code",
      "source": [
        "# example in the slide \n",
        "\n",
        "A = np.array([ [60,5.5,1],\n",
        "               [65,4.8,0],\n",
        "               [55,6.0,1],\n",
        "               [50,5.0,1] ])\n",
        "\n",
        "b = np.array([60,70,78,72])"
      ],
      "metadata": {
        "id": "H1n_2SF5o3qB"
      },
      "execution_count": 21,
      "outputs": []
    },
    {
      "cell_type": "code",
      "source": [
        "# create a matrix A' * A\n",
        "\n",
        "At_A = A.T.dot(A)\n",
        "At_A"
      ],
      "metadata": {
        "colab": {
          "base_uri": "https://localhost:8080/"
        },
        "id": "LQxMkk2to3nb",
        "outputId": "c603c669-eaae-46e5-e9b2-f19aaa89f657"
      },
      "execution_count": 29,
      "outputs": [
        {
          "output_type": "execute_result",
          "data": {
            "text/plain": [
              "array([[1.3350e+04, 1.2220e+03, 1.6500e+02],\n",
              "       [1.2220e+03, 1.1429e+02, 1.6500e+01],\n",
              "       [1.6500e+02, 1.6500e+01, 3.0000e+00]])"
            ]
          },
          "metadata": {},
          "execution_count": 29
        }
      ]
    },
    {
      "cell_type": "code",
      "source": [
        "# A' * b\n",
        "At_b = A.T.dot(b)\n",
        "At_b"
      ],
      "metadata": {
        "colab": {
          "base_uri": "https://localhost:8080/"
        },
        "id": "xlyBVTcio3j7",
        "outputId": "1703b5c9-d978-49be-bd9e-840b274e8a59"
      },
      "execution_count": 30,
      "outputs": [
        {
          "output_type": "execute_result",
          "data": {
            "text/plain": [
              "array([16040.,  1494.,   210.])"
            ]
          },
          "metadata": {},
          "execution_count": 30
        }
      ]
    },
    {
      "cell_type": "code",
      "source": [
        "x = solve(At_A, At_b)\n",
        "x"
      ],
      "metadata": {
        "colab": {
          "base_uri": "https://localhost:8080/"
        },
        "id": "AXdT8Vb9sR81",
        "outputId": "c2f29ec3-42b4-4689-fb71-0fb45410fde7"
      },
      "execution_count": 31,
      "outputs": [
        {
          "output_type": "execute_result",
          "data": {
            "text/plain": [
              "array([ -0.53439721,  21.54069346, -19.08196721])"
            ]
          },
          "metadata": {},
          "execution_count": 31
        }
      ]
    },
    {
      "cell_type": "code",
      "source": [
        "b_fitted = A.dot(x)\n",
        "b_fitted"
      ],
      "metadata": {
        "colab": {
          "base_uri": "https://localhost:8080/"
        },
        "id": "BWsY9TcCsR2d",
        "outputId": "7eaa0b4e-4157-4819-e4ed-07ed96f9bc78"
      },
      "execution_count": 33,
      "outputs": [
        {
          "output_type": "execute_result",
          "data": {
            "text/plain": [
              "array([67.32801393, 68.65950965, 80.77034673, 61.90163934])"
            ]
          },
          "metadata": {},
          "execution_count": 33
        }
      ]
    },
    {
      "cell_type": "code",
      "source": [
        "# error vec \n",
        "error = b-b_fitted\n",
        "error"
      ],
      "metadata": {
        "colab": {
          "base_uri": "https://localhost:8080/"
        },
        "id": "GBCQMhXFsR0L",
        "outputId": "69bf254b-94c0-402d-f10a-70a454272e05"
      },
      "execution_count": 34,
      "outputs": [
        {
          "output_type": "execute_result",
          "data": {
            "text/plain": [
              "array([-7.32801393,  1.34049035, -2.77034673, 10.09836066])"
            ]
          },
          "metadata": {},
          "execution_count": 34
        }
      ]
    },
    {
      "cell_type": "code",
      "source": [
        "# calculate error \n",
        "\n",
        "np.sqrt(np.sum(error**2))"
      ],
      "metadata": {
        "colab": {
          "base_uri": "https://localhost:8080/"
        },
        "id": "YO9X3oXjsRxX",
        "outputId": "314cb099-e337-4a15-82de-009c30df678b"
      },
      "execution_count": 35,
      "outputs": [
        {
          "output_type": "execute_result",
          "data": {
            "text/plain": [
              "12.85100818737143"
            ]
          },
          "metadata": {},
          "execution_count": 35
        }
      ]
    },
    {
      "cell_type": "code",
      "source": [
        "norm(b-b_fitted)"
      ],
      "metadata": {
        "colab": {
          "base_uri": "https://localhost:8080/"
        },
        "id": "1d3DpQuksRuz",
        "outputId": "9235aafc-1613-450e-8ce2-a64a33f44036"
      },
      "execution_count": 36,
      "outputs": [
        {
          "output_type": "execute_result",
          "data": {
            "text/plain": [
              "12.85100818737143"
            ]
          },
          "metadata": {},
          "execution_count": 36
        }
      ]
    },
    {
      "cell_type": "code",
      "source": [],
      "metadata": {
        "id": "37qU8y6Kt2p7"
      },
      "execution_count": null,
      "outputs": []
    },
    {
      "cell_type": "code",
      "source": [],
      "metadata": {
        "id": "DbkpGkigt2nl"
      },
      "execution_count": null,
      "outputs": []
    }
  ]
}